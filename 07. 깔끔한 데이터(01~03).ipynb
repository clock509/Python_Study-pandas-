{
 "cells": [
  {
   "cell_type": "markdown",
   "metadata": {},
   "source": [
    "# 7-1. 열과 피벗"
   ]
  },
  {
   "cell_type": "markdown",
   "metadata": {},
   "source": [
    " - 넓은 데이터: 데이터프레임의 열 자체가 어떤 값을 의미하는 자료 형태. 열이 옆으로 길게 늘어선 형태임."
   ]
  },
  {
   "cell_type": "markdown",
   "metadata": {},
   "source": [
    " - melt 메서드 : 지정한 열의 데이터를 모두 행으로 정리해 줌.\n",
    "  * id_vars: 위치를 그대로 유지할 열의 이름 지정\n",
    "  * value_vars: 행으로 위치를 변경할 열의 이름 지정\n",
    "  * var_name: value_vars로 위치를 변경할 열의 이름 지정\n",
    "  * value_name: var_name으로 위치를 변경한 열의 데이터를 저장한 열의 이름을 지정."
   ]
  },
  {
   "cell_type": "markdown",
   "metadata": {},
   "source": [
    "#### 7-1-1. 1개의 열만 고정하고 나머지 열을 행으로 바꾸기"
   ]
  },
  {
   "cell_type": "code",
   "execution_count": 2,
   "metadata": {
    "scrolled": true
   },
   "outputs": [
    {
     "name": "stdout",
     "output_type": "stream",
     "text": [
      "             religion  <$10k  $10-20k  $20-30k  $30-40k  $40-50k  $50-75k  \\\n",
      "0            Agnostic     27       34       60       81       76      137   \n",
      "1             Atheist     12       27       37       52       35       70   \n",
      "2            Buddhist     27       21       30       34       33       58   \n",
      "3            Catholic    418      617      732      670      638     1116   \n",
      "4  Don’t know/refused     15       14       15       11       10       35   \n",
      "\n",
      "   $75-100k  $100-150k  >150k  Don't know/refused  \n",
      "0       122        109     84                  96  \n",
      "1        73         59     74                  76  \n",
      "2        62         39     53                  54  \n",
      "3       949        792    633                1489  \n",
      "4        21         17     18                 116  \n"
     ]
    }
   ],
   "source": [
    "import pandas as pd\n",
    "pew = pd.read_csv('./data/pew.csv')  #종교(행)에 따른 소득 정보(열)\n",
    "print(pew.head())"
   ]
  },
  {
   "cell_type": "code",
   "execution_count": 3,
   "metadata": {},
   "outputs": [
    {
     "name": "stdout",
     "output_type": "stream",
     "text": [
      "                   religion  <$10k  $10-20k  $20-30k  $30-40k  $40-50k\n",
      "0                  Agnostic     27       34       60       81       76\n",
      "1                   Atheist     12       27       37       52       35\n",
      "2                  Buddhist     27       21       30       34       33\n",
      "3                  Catholic    418      617      732      670      638\n",
      "4        Don’t know/refused     15       14       15       11       10\n",
      "5          Evangelical Prot    575      869     1064      982      881\n",
      "6                     Hindu      1        9        7        9       11\n",
      "7   Historically Black Prot    228      244      236      238      197\n",
      "8         Jehovah's Witness     20       27       24       24       21\n",
      "9                    Jewish     19       19       25       25       30\n",
      "10            Mainline Prot    289      495      619      655      651\n",
      "11                   Mormon     29       40       48       51       56\n",
      "12                   Muslim      6        7        9       10        9\n",
      "13                 Orthodox     13       17       23       32       32\n",
      "14          Other Christian      9        7       11       13       13\n",
      "15             Other Faiths     20       33       40       46       49\n",
      "16    Other World Religions      5        2        3        4        2\n",
      "17             Unaffiliated    217      299      374      365      341\n"
     ]
    }
   ],
   "source": [
    "print(pew.iloc[:, 0:6])"
   ]
  },
  {
   "cell_type": "code",
   "execution_count": 5,
   "metadata": {},
   "outputs": [
    {
     "name": "stdout",
     "output_type": "stream",
     "text": [
      "                    religion            variable  value\n",
      "0                   Agnostic               <$10k     27\n",
      "1                    Atheist               <$10k     12\n",
      "2                   Buddhist               <$10k     27\n",
      "3                   Catholic               <$10k    418\n",
      "4         Don’t know/refused               <$10k     15\n",
      "5           Evangelical Prot               <$10k    575\n",
      "6                      Hindu               <$10k      1\n",
      "7    Historically Black Prot               <$10k    228\n",
      "8          Jehovah's Witness               <$10k     20\n",
      "9                     Jewish               <$10k     19\n",
      "10             Mainline Prot               <$10k    289\n",
      "11                    Mormon               <$10k     29\n",
      "12                    Muslim               <$10k      6\n",
      "13                  Orthodox               <$10k     13\n",
      "14           Other Christian               <$10k      9\n",
      "15              Other Faiths               <$10k     20\n",
      "16     Other World Religions               <$10k      5\n",
      "17              Unaffiliated               <$10k    217\n",
      "18                  Agnostic             $10-20k     34\n",
      "19                   Atheist             $10-20k     27\n",
      "20                  Buddhist             $10-20k     21\n",
      "21                  Catholic             $10-20k    617\n",
      "22        Don’t know/refused             $10-20k     14\n",
      "23          Evangelical Prot             $10-20k    869\n",
      "24                     Hindu             $10-20k      9\n",
      "25   Historically Black Prot             $10-20k    244\n",
      "26         Jehovah's Witness             $10-20k     27\n",
      "27                    Jewish             $10-20k     19\n",
      "28             Mainline Prot             $10-20k    495\n",
      "29                    Mormon             $10-20k     40\n",
      "..                       ...                 ...    ...\n",
      "150                    Hindu               >150k     54\n",
      "151  Historically Black Prot               >150k     78\n",
      "152        Jehovah's Witness               >150k      6\n",
      "153                   Jewish               >150k    151\n",
      "154            Mainline Prot               >150k    634\n",
      "155                   Mormon               >150k     42\n",
      "156                   Muslim               >150k      6\n",
      "157                 Orthodox               >150k     46\n",
      "158          Other Christian               >150k     12\n",
      "159             Other Faiths               >150k     41\n",
      "160    Other World Religions               >150k      4\n",
      "161             Unaffiliated               >150k    258\n",
      "162                 Agnostic  Don't know/refused     96\n",
      "163                  Atheist  Don't know/refused     76\n",
      "164                 Buddhist  Don't know/refused     54\n",
      "165                 Catholic  Don't know/refused   1489\n",
      "166       Don’t know/refused  Don't know/refused    116\n",
      "167         Evangelical Prot  Don't know/refused   1529\n",
      "168                    Hindu  Don't know/refused     37\n",
      "169  Historically Black Prot  Don't know/refused    339\n",
      "170        Jehovah's Witness  Don't know/refused     37\n",
      "171                   Jewish  Don't know/refused    162\n",
      "172            Mainline Prot  Don't know/refused   1328\n",
      "173                   Mormon  Don't know/refused     69\n",
      "174                   Muslim  Don't know/refused     22\n",
      "175                 Orthodox  Don't know/refused     73\n",
      "176          Other Christian  Don't know/refused     18\n",
      "177             Other Faiths  Don't know/refused     71\n",
      "178    Other World Religions  Don't know/refused      8\n",
      "179             Unaffiliated  Don't know/refused    597\n",
      "\n",
      "[180 rows x 3 columns]\n"
     ]
    }
   ],
   "source": [
    "#열의 소득 정보들을 행 데이터로 옮기기\n",
    "#10개의 소득 범위는 variable이라는 1개 열로, 소득에 속하던 값들은 value 열로 정리됨.\n",
    "#==> 'religion열을 고정하여 pivot했다.'\n",
    "pew_long = pd.melt(pew, id_vars = 'religion')\n",
    "print(pew_long)"
   ]
  },
  {
   "cell_type": "code",
   "execution_count": 6,
   "metadata": {},
   "outputs": [
    {
     "name": "stdout",
     "output_type": "stream",
     "text": [
      "             religion income  count\n",
      "0            Agnostic  <$10k     27\n",
      "1             Atheist  <$10k     12\n",
      "2            Buddhist  <$10k     27\n",
      "3            Catholic  <$10k    418\n",
      "4  Don’t know/refused  <$10k     15\n"
     ]
    }
   ],
   "source": [
    "#variable, value 열의 이름 바꾸기\n",
    "pew_long = pd.melt(pew, id_vars = 'religion', var_name = 'income', value_name = 'count')\n",
    "print(pew_long.head())"
   ]
  },
  {
   "cell_type": "markdown",
   "metadata": {},
   "source": [
    "#### 7-1-2. 2개 이상의 열을 고정하고 나머지 열을 행으로 바꾸기"
   ]
  },
  {
   "cell_type": "code",
   "execution_count": 7,
   "metadata": {},
   "outputs": [
    {
     "name": "stdout",
     "output_type": "stream",
     "text": [
      "   year        artist                    track  time date.entered  wk1   wk2  \\\n",
      "0  2000         2 Pac  Baby Don't Cry (Keep...  4:22   2000-02-26   87  82.0   \n",
      "1  2000       2Ge+her  The Hardest Part Of ...  3:15   2000-09-02   91  87.0   \n",
      "2  2000  3 Doors Down               Kryptonite  3:53   2000-04-08   81  70.0   \n",
      "3  2000  3 Doors Down                    Loser  4:24   2000-10-21   76  76.0   \n",
      "4  2000      504 Boyz            Wobble Wobble  3:35   2000-04-15   57  34.0   \n",
      "\n",
      "    wk3   wk4   wk5   wk6   wk7   wk8   wk9  wk10  wk11  \n",
      "0  72.0  77.0  87.0  94.0  99.0   NaN   NaN   NaN   NaN  \n",
      "1  92.0   NaN   NaN   NaN   NaN   NaN   NaN   NaN   NaN  \n",
      "2  68.0  67.0  66.0  57.0  54.0  53.0  51.0  51.0  51.0  \n",
      "3  72.0  69.0  67.0  65.0  55.0  59.0  62.0  61.0  61.0  \n",
      "4  25.0  17.0  17.0  31.0  36.0  49.0  53.0  57.0  64.0  \n"
     ]
    }
   ],
   "source": [
    "import pandas as pd\n",
    "\n",
    "billboard = pd.read_csv(\"./data/billboard.csv\")\n",
    "print(billboard.iloc[0:5, 0:16])"
   ]
  },
  {
   "cell_type": "code",
   "execution_count": 8,
   "metadata": {},
   "outputs": [
    {
     "name": "stdout",
     "output_type": "stream",
     "text": [
      "       year                artist                    track  time date.entered  \\\n",
      "0      2000                 2 Pac  Baby Don't Cry (Keep...  4:22   2000-02-26   \n",
      "1      2000               2Ge+her  The Hardest Part Of ...  3:15   2000-09-02   \n",
      "2      2000          3 Doors Down               Kryptonite  3:53   2000-04-08   \n",
      "3      2000          3 Doors Down                    Loser  4:24   2000-10-21   \n",
      "4      2000              504 Boyz            Wobble Wobble  3:35   2000-04-15   \n",
      "5      2000                  98^0  Give Me Just One Nig...  3:24   2000-08-19   \n",
      "6      2000               A*Teens            Dancing Queen  3:44   2000-07-08   \n",
      "7      2000               Aaliyah            I Don't Wanna  4:15   2000-01-29   \n",
      "8      2000               Aaliyah                Try Again  4:03   2000-03-18   \n",
      "9      2000        Adams, Yolanda            Open My Heart  5:30   2000-08-26   \n",
      "10     2000         Adkins, Trace                     More  3:05   2000-04-29   \n",
      "11     2000   Aguilera, Christina  Come On Over Baby (A...  3:38   2000-08-05   \n",
      "12     2000   Aguilera, Christina            I Turn To You  4:00   2000-04-15   \n",
      "13     2000   Aguilera, Christina        What A Girl Wants  3:18   1999-11-27   \n",
      "14     2000          Alice Deejay         Better Off Alone  6:50   2000-04-08   \n",
      "15     2000           Allan, Gary  Smoke Rings In The D...  4:18   2000-01-22   \n",
      "16     2000                 Amber                   Sexual  4:38   1999-07-17   \n",
      "17     2000             Anastacia           I'm Outta Love  4:01   2000-04-01   \n",
      "18     2000         Anthony, Marc              My Baby You  3:59   2000-09-16   \n",
      "19     2000         Anthony, Marc           You Sang To Me  3:50   2000-02-26   \n",
      "20     2000                 Avant            My First Love  4:28   2000-11-04   \n",
      "21     2000                 Avant                Separated  4:13   2000-04-29   \n",
      "22     2000                 BBMak                Back Here  3:35   2000-04-29   \n",
      "23     2000  Backstreet Boys, The        Shape Of My Heart  3:49   2000-10-14   \n",
      "24     2000  Backstreet Boys, The  Show Me The Meaning ...  3:54   2000-01-01   \n",
      "25     2000  Backstreet Boys, The                  The One  3:46   2000-05-27   \n",
      "26     2000          Badu, Erkyah                 Bag Lady  5:03   2000-08-19   \n",
      "27     2000              Baha Men     Who Let The Dogs Out  3:17   2000-07-22   \n",
      "28     2000      Barenaked Ladies                 Pinch Me  3:46   2000-09-09   \n",
      "29     2000            Beenie Man          Girls Dem Sugar  4:17   2000-10-21   \n",
      "...     ...                   ...                      ...   ...          ...   \n",
      "24062  2000          Thomas, Carl                Emotional  4:31   2000-11-25   \n",
      "24063  2000          Thomas, Carl                   I Wish  3:50   2000-03-25   \n",
      "24064  2000          Thomas, Carl              Summer Rain  4:57   2000-09-23   \n",
      "24065  2000         Tippin, Aaron                Kiss This  2:53   2000-08-26   \n",
      "24066  2000                 Train            Meet Virginia  3:55   1999-10-09   \n",
      "24067  2000           Trick Daddy                  Shut Up  4:17   2000-05-20   \n",
      "24068  2000                 Trina                Pull Over  2:58   2000-09-09   \n",
      "24069  2000         Tritt, Travis       Best Of Intentions  4:15   2000-08-19   \n",
      "24070  2000               Tuesday                   I Know  4:06   2000-12-30   \n",
      "24071  2000          Urban, Keith          Your Everything  4:10   2000-07-15   \n",
      "24072  2000                 Usher            Pop Ya Collar  3:36   2000-11-04   \n",
      "24073  2000          Vassar, Phil                  Carlene  4:07   2000-03-04   \n",
      "24074  2000          Vassar, Phil  Just Another Day In ...  3:54   2000-09-30   \n",
      "24075  2000      Vertical Horizon      Everything You Want  4:01   2000-01-22   \n",
      "24076  2000      Vertical Horizon             You're A God  3:45   2000-08-26   \n",
      "24077  2000             Vitamin C  Graduation (Friends ...  4:23   2000-04-15   \n",
      "24078  2000             Vitamin C                 The Itch  3:30   2000-12-02   \n",
      "24079  2000          Walker, Clay        Live, Laugh, Love  4:06   1999-12-04   \n",
      "24080  2000          Walker, Clay        The Chain Of Love  5:03   2000-04-15   \n",
      "24081  2000      Wallflowers, The              Sleepwalker  3:29   2000-10-28   \n",
      "24082  2000              Westlife           Swear It Again  4:07   2000-04-01   \n",
      "24083  2000      Williams, Robbie                   Angels  3:56   1999-11-20   \n",
      "24084  2000           Wills, Mark              Back At One  4:00   2000-01-15   \n",
      "24085  2000        Worley, Darryl  When You Need My Lov...  3:35   2000-06-17   \n",
      "24086  2000         Wright, Chely                   It Was  3:51   2000-03-04   \n",
      "24087  2000           Yankee Grey     Another Nine Minutes  3:10   2000-04-29   \n",
      "24088  2000      Yearwood, Trisha          Real Live Woman  3:55   2000-04-01   \n",
      "24089  2000       Ying Yang Twins  Whistle While You Tw...  4:19   2000-03-18   \n",
      "24090  2000         Zombie Nation            Kernkraft 400  3:30   2000-09-02   \n",
      "24091  2000       matchbox twenty                     Bent  4:12   2000-04-29   \n",
      "\n",
      "       week  rating  \n",
      "0       wk1    87.0  \n",
      "1       wk1    91.0  \n",
      "2       wk1    81.0  \n",
      "3       wk1    76.0  \n",
      "4       wk1    57.0  \n",
      "5       wk1    51.0  \n",
      "6       wk1    97.0  \n",
      "7       wk1    84.0  \n",
      "8       wk1    59.0  \n",
      "9       wk1    76.0  \n",
      "10      wk1    84.0  \n",
      "11      wk1    57.0  \n",
      "12      wk1    50.0  \n",
      "13      wk1    71.0  \n",
      "14      wk1    79.0  \n",
      "15      wk1    80.0  \n",
      "16      wk1    99.0  \n",
      "17      wk1    92.0  \n",
      "18      wk1    82.0  \n",
      "19      wk1    77.0  \n",
      "20      wk1    70.0  \n",
      "21      wk1    62.0  \n",
      "22      wk1    99.0  \n",
      "23      wk1    39.0  \n",
      "24      wk1    74.0  \n",
      "25      wk1    58.0  \n",
      "26      wk1    67.0  \n",
      "27      wk1    99.0  \n",
      "28      wk1    77.0  \n",
      "29      wk1    72.0  \n",
      "...     ...     ...  \n",
      "24062  wk76     NaN  \n",
      "24063  wk76     NaN  \n",
      "24064  wk76     NaN  \n",
      "24065  wk76     NaN  \n",
      "24066  wk76     NaN  \n",
      "24067  wk76     NaN  \n",
      "24068  wk76     NaN  \n",
      "24069  wk76     NaN  \n",
      "24070  wk76     NaN  \n",
      "24071  wk76     NaN  \n",
      "24072  wk76     NaN  \n",
      "24073  wk76     NaN  \n",
      "24074  wk76     NaN  \n",
      "24075  wk76     NaN  \n",
      "24076  wk76     NaN  \n",
      "24077  wk76     NaN  \n",
      "24078  wk76     NaN  \n",
      "24079  wk76     NaN  \n",
      "24080  wk76     NaN  \n",
      "24081  wk76     NaN  \n",
      "24082  wk76     NaN  \n",
      "24083  wk76     NaN  \n",
      "24084  wk76     NaN  \n",
      "24085  wk76     NaN  \n",
      "24086  wk76     NaN  \n",
      "24087  wk76     NaN  \n",
      "24088  wk76     NaN  \n",
      "24089  wk76     NaN  \n",
      "24090  wk76     NaN  \n",
      "24091  wk76     NaN  \n",
      "\n",
      "[24092 rows x 7 columns]\n"
     ]
    }
   ],
   "source": [
    "#year부터 date.entered 열을 모두 고정, 나머지 열들을 피벗하기.\n",
    "\n",
    "billboard_long = pd.melt(billboard, \n",
    "                         id_vars = ['year', 'artist', 'track', 'time', 'date.entered'],\n",
    "                         var_name = 'week',\n",
    "                         value_name = 'rating')\n",
    "print(billboard_long)"
   ]
  },
  {
   "cell_type": "markdown",
   "metadata": {},
   "source": [
    "# 7-2. 열 이름 관리하기"
   ]
  },
  {
   "cell_type": "markdown",
   "metadata": {},
   "source": [
    "#### 하나의 열이 여러 의미를 가지고 있는 경우."
   ]
  },
  {
   "cell_type": "code",
   "execution_count": 9,
   "metadata": {},
   "outputs": [
    {
     "name": "stdout",
     "output_type": "stream",
     "text": [
      "Index(['Date', 'Day', 'Cases_Guinea', 'Cases_Liberia', 'Cases_SierraLeone',\n",
      "       'Cases_Nigeria', 'Cases_Senegal', 'Cases_UnitedStates', 'Cases_Spain',\n",
      "       'Cases_Mali', 'Deaths_Guinea', 'Deaths_Liberia', 'Deaths_SierraLeone',\n",
      "       'Deaths_Nigeria', 'Deaths_Senegal', 'Deaths_UnitedStates',\n",
      "       'Deaths_Spain', 'Deaths_Mali'],\n",
      "      dtype='object')\n",
      "\n",
      "          Date  Day  Cases_Guinea  Cases_Liberia  Deaths_Guinea  Deaths_Liberia\n",
      "0    1/5/2015  289        2776.0            NaN         1786.0             NaN\n",
      "1    1/4/2015  288        2775.0            NaN         1781.0             NaN\n",
      "2    1/3/2015  287        2769.0         8166.0         1767.0          3496.0\n",
      "3    1/2/2015  286           NaN         8157.0            NaN          3496.0\n",
      "4  12/31/2014  284        2730.0         8115.0         1739.0          3471.0\n"
     ]
    }
   ],
   "source": [
    "import pandas as pd\n",
    "\n",
    "ebola = pd.read_csv('./data/country_timeseries.csv')\n",
    "print(ebola.columns)\n",
    "print('\\n', ebola.iloc[:5, [0, 1, 2, 3, 10, 11]])"
   ]
  },
  {
   "cell_type": "code",
   "execution_count": 10,
   "metadata": {},
   "outputs": [
    {
     "name": "stdout",
     "output_type": "stream",
     "text": [
      "            Date  Day      variable   value\n",
      "0       1/5/2015  289  Cases_Guinea  2776.0\n",
      "1       1/4/2015  288  Cases_Guinea  2775.0\n",
      "2       1/3/2015  287  Cases_Guinea  2769.0\n",
      "3       1/2/2015  286  Cases_Guinea     NaN\n",
      "4     12/31/2014  284  Cases_Guinea  2730.0\n",
      "5     12/28/2014  281  Cases_Guinea  2706.0\n",
      "6     12/27/2014  280  Cases_Guinea  2695.0\n",
      "7     12/24/2014  277  Cases_Guinea  2630.0\n",
      "8     12/21/2014  273  Cases_Guinea  2597.0\n",
      "9     12/20/2014  272  Cases_Guinea  2571.0\n",
      "10    12/18/2014  271  Cases_Guinea     NaN\n",
      "11    12/14/2014  267  Cases_Guinea  2416.0\n",
      "12     12/9/2014  262  Cases_Guinea     NaN\n",
      "13     12/7/2014  260  Cases_Guinea  2292.0\n",
      "14     12/3/2014  256  Cases_Guinea     NaN\n",
      "15    11/30/2014  253  Cases_Guinea  2164.0\n",
      "16    11/28/2014  251  Cases_Guinea     NaN\n",
      "17    11/23/2014  246  Cases_Guinea  2134.0\n",
      "18    11/22/2014  245  Cases_Guinea     NaN\n",
      "19    11/18/2014  241  Cases_Guinea  2047.0\n",
      "20    11/16/2014  239  Cases_Guinea  1971.0\n",
      "21    11/15/2014  238  Cases_Guinea     NaN\n",
      "22    11/11/2014  234  Cases_Guinea  1919.0\n",
      "23    11/10/2014  233  Cases_Guinea     NaN\n",
      "24     11/9/2014  232  Cases_Guinea  1878.0\n",
      "25     11/8/2014  231  Cases_Guinea     NaN\n",
      "26     11/4/2014  227  Cases_Guinea     NaN\n",
      "27     11/3/2014  226  Cases_Guinea  1760.0\n",
      "28     11/2/2014  225  Cases_Guinea  1731.0\n",
      "29    10/31/2014  222  Cases_Guinea     NaN\n",
      "...          ...  ...           ...     ...\n",
      "1922   5/23/2014   62   Deaths_Mali     NaN\n",
      "1923   5/12/2014   51   Deaths_Mali     NaN\n",
      "1924   5/10/2014   49   Deaths_Mali     NaN\n",
      "1925    5/7/2014   46   Deaths_Mali     NaN\n",
      "1926    5/5/2014   44   Deaths_Mali     NaN\n",
      "1927    5/3/2014   42   Deaths_Mali     NaN\n",
      "1928    5/1/2014   40   Deaths_Mali     NaN\n",
      "1929   4/26/2014   35   Deaths_Mali     NaN\n",
      "1930   4/24/2014   33   Deaths_Mali     NaN\n",
      "1931   4/23/2014   32   Deaths_Mali     NaN\n",
      "1932   4/22/2014   31   Deaths_Mali     NaN\n",
      "1933   4/21/2014   30   Deaths_Mali     NaN\n",
      "1934   4/20/2014   29   Deaths_Mali     NaN\n",
      "1935   4/17/2014   26   Deaths_Mali     NaN\n",
      "1936   4/16/2014   25   Deaths_Mali     NaN\n",
      "1937   4/15/2014   24   Deaths_Mali     NaN\n",
      "1938   4/14/2014   23   Deaths_Mali     NaN\n",
      "1939   4/11/2014   20   Deaths_Mali     NaN\n",
      "1940    4/9/2014   18   Deaths_Mali     NaN\n",
      "1941    4/7/2014   16   Deaths_Mali     NaN\n",
      "1942    4/4/2014   13   Deaths_Mali     NaN\n",
      "1943    4/1/2014   10   Deaths_Mali     NaN\n",
      "1944   3/31/2014    9   Deaths_Mali     NaN\n",
      "1945   3/29/2014    7   Deaths_Mali     NaN\n",
      "1946   3/28/2014    6   Deaths_Mali     NaN\n",
      "1947   3/27/2014    5   Deaths_Mali     NaN\n",
      "1948   3/26/2014    4   Deaths_Mali     NaN\n",
      "1949   3/25/2014    3   Deaths_Mali     NaN\n",
      "1950   3/24/2014    2   Deaths_Mali     NaN\n",
      "1951   3/22/2014    0   Deaths_Mali     NaN\n",
      "\n",
      "[1952 rows x 4 columns]\n"
     ]
    }
   ],
   "source": [
    "#Date와 Day를 고정하고 나머지를 행으로 피벗.\n",
    "\n",
    "ebola_long = pd.melt(ebola, id_vars = ['Date', 'Day'])\n",
    "print(ebola_long)"
   ]
  },
  {
   "cell_type": "markdown",
   "metadata": {},
   "source": [
    "#### split 메서드로 열 이름 분리하기."
   ]
  },
  {
   "cell_type": "code",
   "execution_count": 13,
   "metadata": {},
   "outputs": [
    {
     "name": "stdout",
     "output_type": "stream",
     "text": [
      "0    [Cases, Guinea]\n",
      "1    [Cases, Guinea]\n",
      "2    [Cases, Guinea]\n",
      "3    [Cases, Guinea]\n",
      "4    [Cases, Guinea]\n",
      "Name: variable, dtype: object\n"
     ]
    }
   ],
   "source": [
    "#ex. Cases_Guinea 같이 2개 이상의 의미를 가진 열 이름을 '_'을 기준으로 분리하기.\n",
    "variable_split = ebola_long.variable.str.split('_')\n",
    "print(variable_split[:5])"
   ]
  },
  {
   "cell_type": "code",
   "execution_count": 15,
   "metadata": {},
   "outputs": [
    {
     "name": "stdout",
     "output_type": "stream",
     "text": [
      "<class 'pandas.core.series.Series'>\n",
      "<class 'list'>\n"
     ]
    }
   ],
   "source": [
    "print(type(variable_split))    #전체는 시리즈 자료형\n",
    "print(type(variable_split[0])) #각 값은 리스트"
   ]
  },
  {
   "cell_type": "code",
   "execution_count": 18,
   "metadata": {},
   "outputs": [
    {
     "name": "stdout",
     "output_type": "stream",
     "text": [
      "0    Cases\n",
      "1    Cases\n",
      "2    Cases\n",
      "3    Cases\n",
      "4    Cases\n",
      "Name: variable, dtype: object\n",
      "1947    Deaths\n",
      "1948    Deaths\n",
      "1949    Deaths\n",
      "1950    Deaths\n",
      "1951    Deaths\n",
      "Name: variable, dtype: object\n",
      "0    Guinea\n",
      "1    Guinea\n",
      "2    Guinea\n",
      "3    Guinea\n",
      "4    Guinea\n",
      "Name: variable, dtype: object\n",
      "1947    Mali\n",
      "1948    Mali\n",
      "1949    Mali\n",
      "1950    Mali\n",
      "1951    Mali\n",
      "Name: variable, dtype: object\n"
     ]
    }
   ],
   "source": [
    "#variable_split의 0행: '발병(Cases), 죽음(Death)' // 1행: 지역 이름\n",
    "#이 문자열을 분리하여 데이터프레임의 새로운 열로 추가.\n",
    "\n",
    "#get 메서드를 사용해 0, 1번째 인덱스의 데이터를 한 번에 추출하기.\n",
    "status_values = variable_split.str.get(0)\n",
    "country_values = variable_split.str.get(1)\n",
    "print(status_values[:5])\n",
    "print(status_values[-5:])\n",
    "print(country_values[:5])\n",
    "print(country_values[-5:])"
   ]
  },
  {
   "cell_type": "code",
   "execution_count": 19,
   "metadata": {},
   "outputs": [
    {
     "name": "stdout",
     "output_type": "stream",
     "text": [
      "            Date  Day      variable   value  status country\n",
      "0       1/5/2015  289  Cases_Guinea  2776.0   Cases  Guinea\n",
      "1       1/4/2015  288  Cases_Guinea  2775.0   Cases  Guinea\n",
      "2       1/3/2015  287  Cases_Guinea  2769.0   Cases  Guinea\n",
      "3       1/2/2015  286  Cases_Guinea     NaN   Cases  Guinea\n",
      "4     12/31/2014  284  Cases_Guinea  2730.0   Cases  Guinea\n",
      "5     12/28/2014  281  Cases_Guinea  2706.0   Cases  Guinea\n",
      "6     12/27/2014  280  Cases_Guinea  2695.0   Cases  Guinea\n",
      "7     12/24/2014  277  Cases_Guinea  2630.0   Cases  Guinea\n",
      "8     12/21/2014  273  Cases_Guinea  2597.0   Cases  Guinea\n",
      "9     12/20/2014  272  Cases_Guinea  2571.0   Cases  Guinea\n",
      "10    12/18/2014  271  Cases_Guinea     NaN   Cases  Guinea\n",
      "11    12/14/2014  267  Cases_Guinea  2416.0   Cases  Guinea\n",
      "12     12/9/2014  262  Cases_Guinea     NaN   Cases  Guinea\n",
      "13     12/7/2014  260  Cases_Guinea  2292.0   Cases  Guinea\n",
      "14     12/3/2014  256  Cases_Guinea     NaN   Cases  Guinea\n",
      "15    11/30/2014  253  Cases_Guinea  2164.0   Cases  Guinea\n",
      "16    11/28/2014  251  Cases_Guinea     NaN   Cases  Guinea\n",
      "17    11/23/2014  246  Cases_Guinea  2134.0   Cases  Guinea\n",
      "18    11/22/2014  245  Cases_Guinea     NaN   Cases  Guinea\n",
      "19    11/18/2014  241  Cases_Guinea  2047.0   Cases  Guinea\n",
      "20    11/16/2014  239  Cases_Guinea  1971.0   Cases  Guinea\n",
      "21    11/15/2014  238  Cases_Guinea     NaN   Cases  Guinea\n",
      "22    11/11/2014  234  Cases_Guinea  1919.0   Cases  Guinea\n",
      "23    11/10/2014  233  Cases_Guinea     NaN   Cases  Guinea\n",
      "24     11/9/2014  232  Cases_Guinea  1878.0   Cases  Guinea\n",
      "25     11/8/2014  231  Cases_Guinea     NaN   Cases  Guinea\n",
      "26     11/4/2014  227  Cases_Guinea     NaN   Cases  Guinea\n",
      "27     11/3/2014  226  Cases_Guinea  1760.0   Cases  Guinea\n",
      "28     11/2/2014  225  Cases_Guinea  1731.0   Cases  Guinea\n",
      "29    10/31/2014  222  Cases_Guinea     NaN   Cases  Guinea\n",
      "...          ...  ...           ...     ...     ...     ...\n",
      "1922   5/23/2014   62   Deaths_Mali     NaN  Deaths    Mali\n",
      "1923   5/12/2014   51   Deaths_Mali     NaN  Deaths    Mali\n",
      "1924   5/10/2014   49   Deaths_Mali     NaN  Deaths    Mali\n",
      "1925    5/7/2014   46   Deaths_Mali     NaN  Deaths    Mali\n",
      "1926    5/5/2014   44   Deaths_Mali     NaN  Deaths    Mali\n",
      "1927    5/3/2014   42   Deaths_Mali     NaN  Deaths    Mali\n",
      "1928    5/1/2014   40   Deaths_Mali     NaN  Deaths    Mali\n",
      "1929   4/26/2014   35   Deaths_Mali     NaN  Deaths    Mali\n",
      "1930   4/24/2014   33   Deaths_Mali     NaN  Deaths    Mali\n",
      "1931   4/23/2014   32   Deaths_Mali     NaN  Deaths    Mali\n",
      "1932   4/22/2014   31   Deaths_Mali     NaN  Deaths    Mali\n",
      "1933   4/21/2014   30   Deaths_Mali     NaN  Deaths    Mali\n",
      "1934   4/20/2014   29   Deaths_Mali     NaN  Deaths    Mali\n",
      "1935   4/17/2014   26   Deaths_Mali     NaN  Deaths    Mali\n",
      "1936   4/16/2014   25   Deaths_Mali     NaN  Deaths    Mali\n",
      "1937   4/15/2014   24   Deaths_Mali     NaN  Deaths    Mali\n",
      "1938   4/14/2014   23   Deaths_Mali     NaN  Deaths    Mali\n",
      "1939   4/11/2014   20   Deaths_Mali     NaN  Deaths    Mali\n",
      "1940    4/9/2014   18   Deaths_Mali     NaN  Deaths    Mali\n",
      "1941    4/7/2014   16   Deaths_Mali     NaN  Deaths    Mali\n",
      "1942    4/4/2014   13   Deaths_Mali     NaN  Deaths    Mali\n",
      "1943    4/1/2014   10   Deaths_Mali     NaN  Deaths    Mali\n",
      "1944   3/31/2014    9   Deaths_Mali     NaN  Deaths    Mali\n",
      "1945   3/29/2014    7   Deaths_Mali     NaN  Deaths    Mali\n",
      "1946   3/28/2014    6   Deaths_Mali     NaN  Deaths    Mali\n",
      "1947   3/27/2014    5   Deaths_Mali     NaN  Deaths    Mali\n",
      "1948   3/26/2014    4   Deaths_Mali     NaN  Deaths    Mali\n",
      "1949   3/25/2014    3   Deaths_Mali     NaN  Deaths    Mali\n",
      "1950   3/24/2014    2   Deaths_Mali     NaN  Deaths    Mali\n",
      "1951   3/22/2014    0   Deaths_Mali     NaN  Deaths    Mali\n",
      "\n",
      "[1952 rows x 6 columns]\n"
     ]
    }
   ],
   "source": [
    "#위에서 분리한 문자열을 status, country라는 열 이름으로 데이터프레임에 추가.\n",
    "ebola_long['status'] = status_values\n",
    "ebola_long['country'] = country_values\n",
    "\n",
    "print(ebola_long)"
   ]
  },
  {
   "cell_type": "code",
   "execution_count": 27,
   "metadata": {},
   "outputs": [
    {
     "name": "stdout",
     "output_type": "stream",
     "text": [
      "            Date  Day      variable   value  status country  status country\n",
      "0       1/5/2015  289  Cases_Guinea  2776.0   Cases  Guinea   Cases  Guinea\n",
      "1       1/4/2015  288  Cases_Guinea  2775.0   Cases  Guinea   Cases  Guinea\n",
      "2       1/3/2015  287  Cases_Guinea  2769.0   Cases  Guinea   Cases  Guinea\n",
      "3       1/2/2015  286  Cases_Guinea     NaN   Cases  Guinea   Cases  Guinea\n",
      "4     12/31/2014  284  Cases_Guinea  2730.0   Cases  Guinea   Cases  Guinea\n",
      "5     12/28/2014  281  Cases_Guinea  2706.0   Cases  Guinea   Cases  Guinea\n",
      "6     12/27/2014  280  Cases_Guinea  2695.0   Cases  Guinea   Cases  Guinea\n",
      "7     12/24/2014  277  Cases_Guinea  2630.0   Cases  Guinea   Cases  Guinea\n",
      "8     12/21/2014  273  Cases_Guinea  2597.0   Cases  Guinea   Cases  Guinea\n",
      "9     12/20/2014  272  Cases_Guinea  2571.0   Cases  Guinea   Cases  Guinea\n",
      "10    12/18/2014  271  Cases_Guinea     NaN   Cases  Guinea   Cases  Guinea\n",
      "11    12/14/2014  267  Cases_Guinea  2416.0   Cases  Guinea   Cases  Guinea\n",
      "12     12/9/2014  262  Cases_Guinea     NaN   Cases  Guinea   Cases  Guinea\n",
      "13     12/7/2014  260  Cases_Guinea  2292.0   Cases  Guinea   Cases  Guinea\n",
      "14     12/3/2014  256  Cases_Guinea     NaN   Cases  Guinea   Cases  Guinea\n",
      "15    11/30/2014  253  Cases_Guinea  2164.0   Cases  Guinea   Cases  Guinea\n",
      "16    11/28/2014  251  Cases_Guinea     NaN   Cases  Guinea   Cases  Guinea\n",
      "17    11/23/2014  246  Cases_Guinea  2134.0   Cases  Guinea   Cases  Guinea\n",
      "18    11/22/2014  245  Cases_Guinea     NaN   Cases  Guinea   Cases  Guinea\n",
      "19    11/18/2014  241  Cases_Guinea  2047.0   Cases  Guinea   Cases  Guinea\n",
      "20    11/16/2014  239  Cases_Guinea  1971.0   Cases  Guinea   Cases  Guinea\n",
      "21    11/15/2014  238  Cases_Guinea     NaN   Cases  Guinea   Cases  Guinea\n",
      "22    11/11/2014  234  Cases_Guinea  1919.0   Cases  Guinea   Cases  Guinea\n",
      "23    11/10/2014  233  Cases_Guinea     NaN   Cases  Guinea   Cases  Guinea\n",
      "24     11/9/2014  232  Cases_Guinea  1878.0   Cases  Guinea   Cases  Guinea\n",
      "25     11/8/2014  231  Cases_Guinea     NaN   Cases  Guinea   Cases  Guinea\n",
      "26     11/4/2014  227  Cases_Guinea     NaN   Cases  Guinea   Cases  Guinea\n",
      "27     11/3/2014  226  Cases_Guinea  1760.0   Cases  Guinea   Cases  Guinea\n",
      "28     11/2/2014  225  Cases_Guinea  1731.0   Cases  Guinea   Cases  Guinea\n",
      "29    10/31/2014  222  Cases_Guinea     NaN   Cases  Guinea   Cases  Guinea\n",
      "...          ...  ...           ...     ...     ...     ...     ...     ...\n",
      "1922   5/23/2014   62   Deaths_Mali     NaN  Deaths    Mali  Deaths    Mali\n",
      "1923   5/12/2014   51   Deaths_Mali     NaN  Deaths    Mali  Deaths    Mali\n",
      "1924   5/10/2014   49   Deaths_Mali     NaN  Deaths    Mali  Deaths    Mali\n",
      "1925    5/7/2014   46   Deaths_Mali     NaN  Deaths    Mali  Deaths    Mali\n",
      "1926    5/5/2014   44   Deaths_Mali     NaN  Deaths    Mali  Deaths    Mali\n",
      "1927    5/3/2014   42   Deaths_Mali     NaN  Deaths    Mali  Deaths    Mali\n",
      "1928    5/1/2014   40   Deaths_Mali     NaN  Deaths    Mali  Deaths    Mali\n",
      "1929   4/26/2014   35   Deaths_Mali     NaN  Deaths    Mali  Deaths    Mali\n",
      "1930   4/24/2014   33   Deaths_Mali     NaN  Deaths    Mali  Deaths    Mali\n",
      "1931   4/23/2014   32   Deaths_Mali     NaN  Deaths    Mali  Deaths    Mali\n",
      "1932   4/22/2014   31   Deaths_Mali     NaN  Deaths    Mali  Deaths    Mali\n",
      "1933   4/21/2014   30   Deaths_Mali     NaN  Deaths    Mali  Deaths    Mali\n",
      "1934   4/20/2014   29   Deaths_Mali     NaN  Deaths    Mali  Deaths    Mali\n",
      "1935   4/17/2014   26   Deaths_Mali     NaN  Deaths    Mali  Deaths    Mali\n",
      "1936   4/16/2014   25   Deaths_Mali     NaN  Deaths    Mali  Deaths    Mali\n",
      "1937   4/15/2014   24   Deaths_Mali     NaN  Deaths    Mali  Deaths    Mali\n",
      "1938   4/14/2014   23   Deaths_Mali     NaN  Deaths    Mali  Deaths    Mali\n",
      "1939   4/11/2014   20   Deaths_Mali     NaN  Deaths    Mali  Deaths    Mali\n",
      "1940    4/9/2014   18   Deaths_Mali     NaN  Deaths    Mali  Deaths    Mali\n",
      "1941    4/7/2014   16   Deaths_Mali     NaN  Deaths    Mali  Deaths    Mali\n",
      "1942    4/4/2014   13   Deaths_Mali     NaN  Deaths    Mali  Deaths    Mali\n",
      "1943    4/1/2014   10   Deaths_Mali     NaN  Deaths    Mali  Deaths    Mali\n",
      "1944   3/31/2014    9   Deaths_Mali     NaN  Deaths    Mali  Deaths    Mali\n",
      "1945   3/29/2014    7   Deaths_Mali     NaN  Deaths    Mali  Deaths    Mali\n",
      "1946   3/28/2014    6   Deaths_Mali     NaN  Deaths    Mali  Deaths    Mali\n",
      "1947   3/27/2014    5   Deaths_Mali     NaN  Deaths    Mali  Deaths    Mali\n",
      "1948   3/26/2014    4   Deaths_Mali     NaN  Deaths    Mali  Deaths    Mali\n",
      "1949   3/25/2014    3   Deaths_Mali     NaN  Deaths    Mali  Deaths    Mali\n",
      "1950   3/24/2014    2   Deaths_Mali     NaN  Deaths    Mali  Deaths    Mali\n",
      "1951   3/22/2014    0   Deaths_Mali     NaN  Deaths    Mali  Deaths    Mali\n",
      "\n",
      "[1952 rows x 8 columns]\n"
     ]
    }
   ],
   "source": [
    "#Tip. concat 메서드로 split으로 분리한 데이터를 바로 DataFrame에 추가하기.\n",
    "variable_split = ebola_long.variable.str.split('_', expand = True)\n",
    "#print(variable_split)          #컬럼명은 0, 1         #데이터는 0열에 발병/죽음 상태, 1열에 지역정보.\n",
    "variable_split.columns = ['status', 'country']\n",
    "ebola_parsed = pd.concat([ebola_long, variable_split], axis = 1)\n",
    "print(ebola_parsed)"
   ]
  },
  {
   "cell_type": "markdown",
   "metadata": {},
   "source": [
    "# 7-3. 여러 열을 하나로 정리하기"
   ]
  },
  {
   "cell_type": "markdown",
   "metadata": {},
   "source": [
    "#### 비슷한 성질의 데이터를 관리하기 위해 분리된 여러 개의 열을 정리하는 방법."
   ]
  },
  {
   "cell_type": "markdown",
   "metadata": {},
   "source": [
    "#### 7-3-1. 기상 데이터의 여러 열을 하나로 정리하기: melt, pivot_table 메서드"
   ]
  },
  {
   "cell_type": "code",
   "execution_count": 29,
   "metadata": {},
   "outputs": [
    {
     "name": "stdout",
     "output_type": "stream",
     "text": [
      "        id  year  month element  d1    d2    d3  d4    d5  d6  ...  d22   d23  \\\n",
      "0  MX17004  2010      1    tmax NaN   NaN   NaN NaN   NaN NaN  ...  NaN   NaN   \n",
      "1  MX17004  2010      1    tmin NaN   NaN   NaN NaN   NaN NaN  ...  NaN   NaN   \n",
      "2  MX17004  2010      2    tmax NaN  27.3  24.1 NaN   NaN NaN  ...  NaN  29.9   \n",
      "3  MX17004  2010      2    tmin NaN  14.4  14.4 NaN   NaN NaN  ...  NaN  10.7   \n",
      "4  MX17004  2010      3    tmax NaN   NaN   NaN NaN  32.1 NaN  ...  NaN   NaN   \n",
      "\n",
      "   d24  d25  d26  d27  d28  d29   d30  d31  \n",
      "0  NaN  NaN  NaN  NaN  NaN  NaN  27.8  NaN  \n",
      "1  NaN  NaN  NaN  NaN  NaN  NaN  14.5  NaN  \n",
      "2  NaN  NaN  NaN  NaN  NaN  NaN   NaN  NaN  \n",
      "3  NaN  NaN  NaN  NaN  NaN  NaN   NaN  NaN  \n",
      "4  NaN  NaN  NaN  NaN  NaN  NaN   NaN  NaN  \n",
      "\n",
      "[5 rows x 35 columns]\n"
     ]
    }
   ],
   "source": [
    "#월별 최고, 최저 온도 데이터(element), 일별 온도 측정값(d1 ~ d31)\n",
    "weather = pd.read_csv('./data/weather.csv')\n",
    "print(weather.iloc[:5, :])"
   ]
  },
  {
   "cell_type": "code",
   "execution_count": 31,
   "metadata": {},
   "outputs": [
    {
     "name": "stdout",
     "output_type": "stream",
     "text": [
      "          id  year  month element  day  temp\n",
      "0    MX17004  2010      1    tmax   d1   NaN\n",
      "1    MX17004  2010      1    tmin   d1   NaN\n",
      "2    MX17004  2010      2    tmax   d1   NaN\n",
      "3    MX17004  2010      2    tmin   d1   NaN\n",
      "4    MX17004  2010      3    tmax   d1   NaN\n",
      "5    MX17004  2010      3    tmin   d1   NaN\n",
      "6    MX17004  2010      4    tmax   d1   NaN\n",
      "7    MX17004  2010      4    tmin   d1   NaN\n",
      "8    MX17004  2010      5    tmax   d1   NaN\n",
      "9    MX17004  2010      5    tmin   d1   NaN\n",
      "10   MX17004  2010      6    tmax   d1   NaN\n",
      "11   MX17004  2010      6    tmin   d1   NaN\n",
      "12   MX17004  2010      7    tmax   d1   NaN\n",
      "13   MX17004  2010      7    tmin   d1   NaN\n",
      "14   MX17004  2010      8    tmax   d1   NaN\n",
      "15   MX17004  2010      8    tmin   d1   NaN\n",
      "16   MX17004  2010     10    tmax   d1   NaN\n",
      "17   MX17004  2010     10    tmin   d1   NaN\n",
      "18   MX17004  2010     11    tmax   d1   NaN\n",
      "19   MX17004  2010     11    tmin   d1   NaN\n",
      "20   MX17004  2010     12    tmax   d1  29.9\n",
      "21   MX17004  2010     12    tmin   d1  13.8\n",
      "22   MX17004  2010      1    tmax   d2   NaN\n",
      "23   MX17004  2010      1    tmin   d2   NaN\n",
      "24   MX17004  2010      2    tmax   d2  27.3\n",
      "25   MX17004  2010      2    tmin   d2  14.4\n",
      "26   MX17004  2010      3    tmax   d2   NaN\n",
      "27   MX17004  2010      3    tmin   d2   NaN\n",
      "28   MX17004  2010      4    tmax   d2   NaN\n",
      "29   MX17004  2010      4    tmin   d2   NaN\n",
      "..       ...   ...    ...     ...  ...   ...\n",
      "652  MX17004  2010      8    tmax  d30   NaN\n",
      "653  MX17004  2010      8    tmin  d30   NaN\n",
      "654  MX17004  2010     10    tmax  d30   NaN\n",
      "655  MX17004  2010     10    tmin  d30   NaN\n",
      "656  MX17004  2010     11    tmax  d30   NaN\n",
      "657  MX17004  2010     11    tmin  d30   NaN\n",
      "658  MX17004  2010     12    tmax  d30   NaN\n",
      "659  MX17004  2010     12    tmin  d30   NaN\n",
      "660  MX17004  2010      1    tmax  d31   NaN\n",
      "661  MX17004  2010      1    tmin  d31   NaN\n",
      "662  MX17004  2010      2    tmax  d31   NaN\n",
      "663  MX17004  2010      2    tmin  d31   NaN\n",
      "664  MX17004  2010      3    tmax  d31   NaN\n",
      "665  MX17004  2010      3    tmin  d31   NaN\n",
      "666  MX17004  2010      4    tmax  d31   NaN\n",
      "667  MX17004  2010      4    tmin  d31   NaN\n",
      "668  MX17004  2010      5    tmax  d31   NaN\n",
      "669  MX17004  2010      5    tmin  d31   NaN\n",
      "670  MX17004  2010      6    tmax  d31   NaN\n",
      "671  MX17004  2010      6    tmin  d31   NaN\n",
      "672  MX17004  2010      7    tmax  d31   NaN\n",
      "673  MX17004  2010      7    tmin  d31   NaN\n",
      "674  MX17004  2010      8    tmax  d31  25.4\n",
      "675  MX17004  2010      8    tmin  d31  15.4\n",
      "676  MX17004  2010     10    tmax  d31   NaN\n",
      "677  MX17004  2010     10    tmin  d31   NaN\n",
      "678  MX17004  2010     11    tmax  d31   NaN\n",
      "679  MX17004  2010     11    tmin  d31   NaN\n",
      "680  MX17004  2010     12    tmax  d31   NaN\n",
      "681  MX17004  2010     12    tmin  d31   NaN\n",
      "\n",
      "[682 rows x 6 columns]\n"
     ]
    }
   ],
   "source": [
    "#melt 메서드로 일별 온도 측정값 피벗.\n",
    "#day열에 날짜 열에 정리되고, 날짜 열의 데이터는 temp열에 정리됨.\n",
    "\n",
    "weather_melt = pd.melt(weather, \n",
    "                       id_vars = ['id', 'year', 'month', 'element'],\n",
    "                       var_name = 'day', \n",
    "                       value_name = 'temp')\n",
    "print(weather_melt)\n",
    "#그러나, 아직 최고/최저 온도가 정리가 잘 안 되어있다."
   ]
  },
  {
   "cell_type": "code",
   "execution_count": 33,
   "metadata": {},
   "outputs": [
    {
     "name": "stdout",
     "output_type": "stream",
     "text": [
      "element                 tmax  tmin\n",
      "id      year month day            \n",
      "MX17004 2010 1     d1    NaN   NaN\n",
      "                   d10   NaN   NaN\n",
      "                   d11   NaN   NaN\n",
      "                   d12   NaN   NaN\n",
      "                   d13   NaN   NaN\n",
      "                   d14   NaN   NaN\n",
      "                   d15   NaN   NaN\n",
      "                   d16   NaN   NaN\n",
      "                   d17   NaN   NaN\n",
      "                   d18   NaN   NaN\n",
      "                   d19   NaN   NaN\n",
      "                   d2    NaN   NaN\n",
      "                   d20   NaN   NaN\n",
      "                   d21   NaN   NaN\n",
      "                   d22   NaN   NaN\n",
      "                   d23   NaN   NaN\n",
      "                   d24   NaN   NaN\n",
      "                   d25   NaN   NaN\n",
      "                   d26   NaN   NaN\n",
      "                   d27   NaN   NaN\n",
      "                   d28   NaN   NaN\n",
      "                   d29   NaN   NaN\n",
      "                   d3    NaN   NaN\n",
      "                   d30  27.8  14.5\n",
      "                   d31   NaN   NaN\n",
      "                   d4    NaN   NaN\n",
      "                   d5    NaN   NaN\n",
      "                   d6    NaN   NaN\n",
      "                   d7    NaN   NaN\n",
      "                   d8    NaN   NaN\n",
      "...                      ...   ...\n",
      "             12    d10   NaN   NaN\n",
      "                   d11   NaN   NaN\n",
      "                   d12   NaN   NaN\n",
      "                   d13   NaN   NaN\n",
      "                   d14   NaN   NaN\n",
      "                   d15   NaN   NaN\n",
      "                   d16   NaN   NaN\n",
      "                   d17   NaN   NaN\n",
      "                   d18   NaN   NaN\n",
      "                   d19   NaN   NaN\n",
      "                   d2    NaN   NaN\n",
      "                   d20   NaN   NaN\n",
      "                   d21   NaN   NaN\n",
      "                   d22   NaN   NaN\n",
      "                   d23   NaN   NaN\n",
      "                   d24   NaN   NaN\n",
      "                   d25   NaN   NaN\n",
      "                   d26   NaN   NaN\n",
      "                   d27   NaN   NaN\n",
      "                   d28   NaN   NaN\n",
      "                   d29   NaN   NaN\n",
      "                   d3    NaN   NaN\n",
      "                   d30   NaN   NaN\n",
      "                   d31   NaN   NaN\n",
      "                   d4    NaN   NaN\n",
      "                   d5    NaN   NaN\n",
      "                   d6   27.8  10.5\n",
      "                   d7    NaN   NaN\n",
      "                   d8    NaN   NaN\n",
      "                   d9    NaN   NaN\n",
      "\n",
      "[341 rows x 2 columns]\n"
     ]
    }
   ],
   "source": [
    "#pivot_table 메서드로 행, 열 위치 다시 바꿔 정리하기.\n",
    "\n",
    "weather_tidy = weather_melt.pivot_table(\n",
    "        index = ['id', 'year', 'month', 'day'],\n",
    "        columns = 'element',\n",
    "        values = 'temp',\n",
    "        dropna = False\n",
    ")\n",
    "print(weather_tidy)"
   ]
  },
  {
   "cell_type": "code",
   "execution_count": 34,
   "metadata": {},
   "outputs": [
    {
     "name": "stdout",
     "output_type": "stream",
     "text": [
      "element       id  year  month  day  tmax  tmin\n",
      "0        MX17004  2010      1   d1   NaN   NaN\n",
      "1        MX17004  2010      1  d10   NaN   NaN\n",
      "2        MX17004  2010      1  d11   NaN   NaN\n",
      "3        MX17004  2010      1  d12   NaN   NaN\n",
      "4        MX17004  2010      1  d13   NaN   NaN\n",
      "5        MX17004  2010      1  d14   NaN   NaN\n",
      "6        MX17004  2010      1  d15   NaN   NaN\n",
      "7        MX17004  2010      1  d16   NaN   NaN\n",
      "8        MX17004  2010      1  d17   NaN   NaN\n",
      "9        MX17004  2010      1  d18   NaN   NaN\n",
      "10       MX17004  2010      1  d19   NaN   NaN\n",
      "11       MX17004  2010      1   d2   NaN   NaN\n",
      "12       MX17004  2010      1  d20   NaN   NaN\n",
      "13       MX17004  2010      1  d21   NaN   NaN\n",
      "14       MX17004  2010      1  d22   NaN   NaN\n",
      "15       MX17004  2010      1  d23   NaN   NaN\n",
      "16       MX17004  2010      1  d24   NaN   NaN\n",
      "17       MX17004  2010      1  d25   NaN   NaN\n",
      "18       MX17004  2010      1  d26   NaN   NaN\n",
      "19       MX17004  2010      1  d27   NaN   NaN\n",
      "20       MX17004  2010      1  d28   NaN   NaN\n",
      "21       MX17004  2010      1  d29   NaN   NaN\n",
      "22       MX17004  2010      1   d3   NaN   NaN\n",
      "23       MX17004  2010      1  d30  27.8  14.5\n",
      "24       MX17004  2010      1  d31   NaN   NaN\n",
      "25       MX17004  2010      1   d4   NaN   NaN\n",
      "26       MX17004  2010      1   d5   NaN   NaN\n",
      "27       MX17004  2010      1   d6   NaN   NaN\n",
      "28       MX17004  2010      1   d7   NaN   NaN\n",
      "29       MX17004  2010      1   d8   NaN   NaN\n",
      "..           ...   ...    ...  ...   ...   ...\n",
      "311      MX17004  2010     12  d10   NaN   NaN\n",
      "312      MX17004  2010     12  d11   NaN   NaN\n",
      "313      MX17004  2010     12  d12   NaN   NaN\n",
      "314      MX17004  2010     12  d13   NaN   NaN\n",
      "315      MX17004  2010     12  d14   NaN   NaN\n",
      "316      MX17004  2010     12  d15   NaN   NaN\n",
      "317      MX17004  2010     12  d16   NaN   NaN\n",
      "318      MX17004  2010     12  d17   NaN   NaN\n",
      "319      MX17004  2010     12  d18   NaN   NaN\n",
      "320      MX17004  2010     12  d19   NaN   NaN\n",
      "321      MX17004  2010     12   d2   NaN   NaN\n",
      "322      MX17004  2010     12  d20   NaN   NaN\n",
      "323      MX17004  2010     12  d21   NaN   NaN\n",
      "324      MX17004  2010     12  d22   NaN   NaN\n",
      "325      MX17004  2010     12  d23   NaN   NaN\n",
      "326      MX17004  2010     12  d24   NaN   NaN\n",
      "327      MX17004  2010     12  d25   NaN   NaN\n",
      "328      MX17004  2010     12  d26   NaN   NaN\n",
      "329      MX17004  2010     12  d27   NaN   NaN\n",
      "330      MX17004  2010     12  d28   NaN   NaN\n",
      "331      MX17004  2010     12  d29   NaN   NaN\n",
      "332      MX17004  2010     12   d3   NaN   NaN\n",
      "333      MX17004  2010     12  d30   NaN   NaN\n",
      "334      MX17004  2010     12  d31   NaN   NaN\n",
      "335      MX17004  2010     12   d4   NaN   NaN\n",
      "336      MX17004  2010     12   d5   NaN   NaN\n",
      "337      MX17004  2010     12   d6  27.8  10.5\n",
      "338      MX17004  2010     12   d7   NaN   NaN\n",
      "339      MX17004  2010     12   d8   NaN   NaN\n",
      "340      MX17004  2010     12   d9   NaN   NaN\n",
      "\n",
      "[341 rows x 6 columns]\n"
     ]
    }
   ],
   "source": [
    "#위에서 구한 데이터프레임의 인덱스를 reset_index 메서드로 새로 지정.\n",
    "weather_tidy_flat = weather_tidy.reset_index()\n",
    "\n",
    "print(weather_tidy_flat)"
   ]
  }
 ],
 "metadata": {
  "kernelspec": {
   "display_name": "Python 3",
   "language": "python",
   "name": "python3"
  },
  "language_info": {
   "codemirror_mode": {
    "name": "ipython",
    "version": 3
   },
   "file_extension": ".py",
   "mimetype": "text/x-python",
   "name": "python",
   "nbconvert_exporter": "python",
   "pygments_lexer": "ipython3",
   "version": "3.7.3"
  }
 },
 "nbformat": 4,
 "nbformat_minor": 2
}
