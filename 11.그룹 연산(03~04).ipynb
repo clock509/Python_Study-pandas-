{
 "cells": [
  {
   "cell_type": "markdown",
   "metadata": {},
   "source": [
    "# 11-3. 데이터 필터링."
   ]
  },
  {
   "cell_type": "markdown",
   "metadata": {},
   "source": [
    " - data filtering: 그룹화한 데이터에서 원하는 데이터를 걸러내기."
   ]
  },
  {
   "cell_type": "code",
   "execution_count": null,
   "metadata": {},
   "outputs": [],
   "source": [
    "import pandas as pd\n",
    "import seaborn as sns\n",
    "import numpy as np"
   ]
  },
  {
   "cell_type": "code",
   "execution_count": null,
   "metadata": {},
   "outputs": [],
   "source": [
    "#데이터 크기 확인.\n",
    "tips = sns.load_dataset('tips')\n",
    "print(tips.shape)"
   ]
  },
  {
   "cell_type": "code",
   "execution_count": null,
   "metadata": {},
   "outputs": [],
   "source": [
    "#size열의 데이터 수 확인: 1, 5, 6 테이블의 주문이 적음을 알 수 있음.\n",
    "print(tips['size'].value_counts())"
   ]
  },
  {
   "cell_type": "code",
   "execution_count": null,
   "metadata": {},
   "outputs": [],
   "source": [
    "#30번 이상의 주문이 있는 테이블만 추리려면?\n",
    "\n",
    "tips_filtered = tips.groupby('size').filter(lambda x: x['size'].count() >= 30)\n",
    "print(tips_filtered.shape)\n",
    "print(tips_filtered['size'].value_counts())"
   ]
  },
  {
   "cell_type": "markdown",
   "metadata": {},
   "source": [
    "# 11-4. 그룹 오브젝트"
   ]
  },
  {
   "cell_type": "code",
   "execution_count": null,
   "metadata": {},
   "outputs": [],
   "source": [
    "#tips에서 임의로 10개의 데이터 추출.\n",
    "tips_10 = sns.load_dataset('tips').sample(10, random_state = 42)\n",
    "print(tips_10)"
   ]
  },
  {
   "cell_type": "code",
   "execution_count": null,
   "metadata": {},
   "outputs": [],
   "source": [
    "#groupby 메서드의 결괏값의 자료형: 그룹 오브젝트\n",
    "grouped = tips_10.groupby('sex')\n",
    "print(grouped)"
   ]
  },
  {
   "cell_type": "code",
   "execution_count": null,
   "metadata": {},
   "outputs": [],
   "source": [
    "#groups 속성: 그룹 오브젝트에 포함된 그룹 확인.\n",
    "print(grouped.groups)   #'sex' 열로 그룹화한 데이터프레임의 '인덱스'를 출력."
   ]
  },
  {
   "cell_type": "markdown",
   "metadata": {},
   "source": [
    " - 한 번에 그룹 오브젝트 계산하기."
   ]
  },
  {
   "cell_type": "code",
   "execution_count": null,
   "metadata": {},
   "outputs": [],
   "source": [
    "#평균.\n",
    "avgs = grouped.mean()   #평균을 낼 수 있는 컬럼들만 평균값을 낸다.\n",
    "print(avgs)             #평균 계산이 불가한 열(smoker, day 등)은 그룹 연산에서 제외되었음!"
   ]
  },
  {
   "cell_type": "code",
   "execution_count": null,
   "metadata": {},
   "outputs": [],
   "source": [
    "print(tips_10.columns)"
   ]
  },
  {
   "cell_type": "markdown",
   "metadata": {},
   "source": [
    " - 그룹 오브젝트 활용하기.\n",
    "   * 데이터 추출하기.\n",
    "   * 반복문 사용하기."
   ]
  },
  {
   "cell_type": "code",
   "execution_count": null,
   "metadata": {},
   "outputs": [],
   "source": [
    "#그룹 오브젝트에서 특정 데이터만 추출.\n",
    "#sex열로 그룹화한 그룹 오브젝트에 get_group 메서드로 성별이 여성인 데이터만 추출.\n",
    "#\n",
    "female = grouped.get_group('Female')\n",
    "print(female)"
   ]
  },
  {
   "cell_type": "code",
   "execution_count": null,
   "metadata": {},
   "outputs": [],
   "source": [
    "#그룹 오브젝트를 반복문에 사용.\n",
    "for sex_group in grouped:\n",
    "    print(sex_group)"
   ]
  },
  {
   "cell_type": "code",
   "execution_count": null,
   "metadata": {},
   "outputs": [],
   "source": [
    "for sex_group in grouped:\n",
    "    print('the type is: {}\\n'.format(type(sex_group)))\n",
    "    print('the length is: {}\\n'.format(len(sex_group)))\n",
    "    \n",
    "    first_element = sex_group[0]\n",
    "    \n",
    "    print('the first element is: {}\\n'.format(first_element))\n",
    "    print('it has a type of: {}\\n'.format(type(sex_group[0])))\n",
    "    \n",
    "    second_element = sex_group[1]\n",
    "    print('the second element is: \\n{}\\n'.format(second_element))\n",
    "    print('it has a type of: {}\\n'.format(type(second_element)))\n",
    "    \n",
    "    print('what we have: ')\n",
    "    print(sex_group)\n",
    "    \n",
    "    break"
   ]
  },
  {
   "cell_type": "markdown",
   "metadata": {},
   "source": [
    " - 여러 열을 사용해 그룹 오브젝트 만들고 계산하기"
   ]
  },
  {
   "cell_type": "code",
   "execution_count": null,
   "metadata": {},
   "outputs": [],
   "source": [
    "#여러 열을 사용하여 그룹 오브젝트를 만들고 계산 수행.\n",
    "\n",
    "bill_sex_time = tips_10.groupby(['sex', 'time'])\n",
    "group_avg = bill_sex_time.mean()\n",
    "print(group_avg)"
   ]
  },
  {
   "cell_type": "code",
   "execution_count": null,
   "metadata": {},
   "outputs": [],
   "source": [
    "print(type(group_avg))\n",
    "print(group_avg.columns)"
   ]
  },
  {
   "cell_type": "code",
   "execution_count": null,
   "metadata": {},
   "outputs": [],
   "source": [
    "print(group_avg.index)   #MultiIndex: 여러 인덱스를 담고 있는인덱스."
   ]
  },
  {
   "cell_type": "code",
   "execution_count": null,
   "metadata": {},
   "outputs": [],
   "source": [
    "#데이터프레임의 인덱스가  Multiindex 인 경우, reset_index 메서드를 사용해 \n",
    "#데이터프레임에 새로운 인덱스 부여.\n",
    "group_method = tips_10.groupby(['sex', 'time']).mean().reset_index()\n",
    "print(group_method)"
   ]
  },
  {
   "cell_type": "code",
   "execution_count": null,
   "metadata": {},
   "outputs": [],
   "source": [
    "#reset_index 대신 as_index 인자를 False로 설정!\n",
    "group_param = tips_10.groupby(['sex', 'time'], as_index = False).mean()\n",
    "print(group_param)"
   ]
  }
 ],
 "metadata": {
  "kernelspec": {
   "display_name": "Python 3",
   "language": "python",
   "name": "python3"
  },
  "language_info": {
   "codemirror_mode": {
    "name": "ipython",
    "version": 3
   },
   "file_extension": ".py",
   "mimetype": "text/x-python",
   "name": "python",
   "nbconvert_exporter": "python",
   "pygments_lexer": "ipython3",
   "version": "3.7.3"
  }
 },
 "nbformat": 4,
 "nbformat_minor": 2
}
