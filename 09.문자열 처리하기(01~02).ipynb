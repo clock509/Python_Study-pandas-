{
 "cells": [
  {
   "cell_type": "markdown",
   "metadata": {},
   "source": [
    "# 9-1. 문자열 다루기"
   ]
  },
  {
   "cell_type": "code",
   "execution_count": null,
   "metadata": {},
   "outputs": [],
   "source": [
    "word = 'grail'\n",
    "sent = 'a scratch'"
   ]
  },
  {
   "cell_type": "code",
   "execution_count": null,
   "metadata": {},
   "outputs": [],
   "source": [
    "#인덱스 기능을 활용해 문자열 추출.\n",
    "\n",
    "#각 문자열의 첫 번째 문자 추출.\n",
    "print(word[0])\n",
    "print(sent[0])"
   ]
  },
  {
   "cell_type": "code",
   "execution_count": null,
   "metadata": {},
   "outputs": [],
   "source": [
    "#인덱스 슬라이싱으로 여러 문자 한 번에 추출.\n",
    "\n",
    "print(word[0:3])"
   ]
  },
  {
   "cell_type": "code",
   "execution_count": null,
   "metadata": {},
   "outputs": [],
   "source": [
    "#음수로도 추출할 수 있음.\n",
    "print(sent[-1])\n",
    "print(sent[-9:-8])\n",
    "print(sent[0:-8])"
   ]
  },
  {
   "cell_type": "code",
   "execution_count": null,
   "metadata": {},
   "outputs": [],
   "source": [
    "#전체 문자열을 포함할 때는 음수를 사용하면 안 된다.\n",
    "#인덱스 슬라이싱의 오른쪽 범위로 지정한 값은 문자열 추출 범위에서 제외되기 때문이다.\n",
    "print(sent[2:-1])\n",
    "print(sent[-7:-1])\n",
    "\n",
    "s_len = len(sent)\n",
    "print(s_len)\n",
    "\n",
    "#해결방법: len 메서드로 문자열의 길이를 오른쪽 범위로 지정.\n",
    "print(sent[2:s_len])"
   ]
  },
  {
   "cell_type": "code",
   "execution_count": null,
   "metadata": {},
   "outputs": [],
   "source": [
    "#전체 문자열 추출하기.\n",
    "#인덱스 슬라이싱 시 왼쪽 범위가 비어있다(ex. [ : 9]) ==> 문자열 첫 번째 위치부터 문자열 추출.\n",
    "#인덱스 슬라이싱 시 오른쪽 범위가 비어있다(ex. [0 : ]) ==> 문자열 마지막 위치까지 문자열 추출.\n",
    "print(word[0:3])\n",
    "print(word[:3])"
   ]
  },
  {
   "cell_type": "code",
   "execution_count": null,
   "metadata": {},
   "outputs": [],
   "source": [
    "print(sent[2:len(sent)])\n",
    "print(sent[2:])"
   ]
  },
  {
   "cell_type": "code",
   "execution_count": null,
   "metadata": {},
   "outputs": [],
   "source": [
    "#양쪽을 모두 비우면 전체 문자열을 추출함.\n",
    "print(sent[:])"
   ]
  },
  {
   "cell_type": "code",
   "execution_count": null,
   "metadata": {},
   "outputs": [],
   "source": [
    "#문자열을 일정한 간격으로 건너뛰며 추출하기: 콜론(:)을 하나더 추가하여 추출 간격을 지정하기.\n",
    "#[::2] : 전체 문자열을 추출하되, 전 문자열로부터 거리가 2에 해당하는(=1칸씩 건너뛰는) 문자를 추출함.\n",
    "print(sent[::2])"
   ]
  },
  {
   "cell_type": "markdown",
   "metadata": {},
   "source": [
    "# 9-2. 문자열 메서드"
   ]
  },
  {
   "cell_type": "code",
   "execution_count": null,
   "metadata": {},
   "outputs": [],
   "source": [
    "#문자열 메서드 정리\n",
    "print(\"black Knight\".capitalize())                      #첫 문자를 대문자로 반환.\n",
    "print(\"It's just a flesh wound!\".count('u'))            #문자열의 개수 반환.\n",
    "print(\"Halt! Who goes there?\".startswith('Halt'))       #문자열이 특정 문자로 시작하면 참.\n",
    "print(\"coconut\".endswith('nut'))                        #문자열이 특정 문자로 끝나면 거짓.\n",
    "print(\"It's just a flesh wound!\".find('u'))             #찾을 문자열의 첫 인덱스 반환. 실패시 -1 반환.\n",
    "#print(\"It's just a flesh wound!\".index('scratch'))     #find와 같음. 실패시 ValueError 반환.\n",
    "print(\"old woman\".isalpha())                            #모든 문자가 알파벳이면 참.\n",
    "print(\"37\".isdecimal())                                 #모든 문자가 숫자이면 참.\n",
    "print(\"I'm 37\".isalnum())                               #모든 문자가 알파벳이거나 숫자이면 참.\n",
    "print(\"Black Knight\".lower())                           #모든 문자를 소문자로 변환.\n",
    "print(\"Black Knight\".upper())                           #모든 문자를 대문자로 변환.\n",
    "print(\"flesh wounds\".replace('flesh wound', 'scratch')) #문자열의 문자를 다른 문자로 교체.\n",
    "print(\"I'm not dead. \".strip())                         #문자열의 맨 앞과 맨 뒤의 빈 칸 제거.\n",
    "print(\"NI! NI! NI! NI!\".split(sep = ' '))               #구분자(sep)를 지정해 문자열을 나누고 그 결과를 반환.\n",
    "print(\"3,4\".partition(','))                             #split과 비슷한 역할을 하지만, 구분자도 반환함.\n",
    "print(\"nine\".center(10))                                #지정한 너비로 문자열을 늘이고 문자열을 가운데 정렬.\n",
    "print(\"999\".zfill(5))                                   #기존 문자열(999)을 기초로 문자열 길이를 지정한만큼까지 늘리되 기존 문자열 이외의 부분은 0으로 채움."
   ]
  },
  {
   "cell_type": "markdown",
   "metadata": {},
   "source": [
    "#### join, splitlines, replace 메서드 실습"
   ]
  },
  {
   "cell_type": "code",
   "execution_count": null,
   "metadata": {},
   "outputs": [],
   "source": [
    "#1. join 메서드: 문자열을 연결하여 새로운 문자열을 반환.\n",
    "d1 = '40˚'\n",
    "m1 = \"46'\"\n",
    "s1 = '52.837\"'\n",
    "u1 = 'N'\n",
    "\n",
    "d2 = '73˚'\n",
    "m2 = \"58'\"\n",
    "s2 = '26.302\"'\n",
    "u2 = 'W'\n",
    "\n",
    "coords = ' '.join([d1, m1, s1, u1, d2, m2, s2, u2])\n",
    "print(coords)"
   ]
  },
  {
   "cell_type": "code",
   "execution_count": null,
   "metadata": {},
   "outputs": [],
   "source": [
    "#2.splitlines 메서드: 여러 행을 가진 문자열을 분리한 다음 리스트로 반환.  \n",
    "multi_str = \"\"\"Guard: What? Ridden on a horse?\n",
    "King Arthur: Yes!\n",
    "Guard: You're using coconuts!\n",
    "King Arthur: What?\n",
    "Guard: You've got ... coconut[s] and you're bangin' 'em together.\n",
    "\"\"\"\n",
    "\n",
    "print(multi_str)\n",
    "\n",
    "multi_str_split = multi_str.splitlines()\n",
    "print(multi_str_split)"
   ]
  },
  {
   "cell_type": "code",
   "execution_count": null,
   "metadata": {},
   "outputs": [],
   "source": [
    "#인덱스 슬라이싱을 응용해 특정 문자열만 가져오기/\n",
    "\n",
    "guard = multi_str_split[::2]\n",
    "print(guard)"
   ]
  },
  {
   "cell_type": "code",
   "execution_count": null,
   "metadata": {},
   "outputs": [],
   "source": [
    "#3.replace 메서드: 기존 문자열을 원하는 문자열로 치환해 줌.\n",
    "guard = multi_str.replace(\"Guard: \", \"\").splitlines()[::2]  #Guard를 공백으로 바꾼다.\n",
    "print(guard)"
   ]
  }
 ],
 "metadata": {
  "kernelspec": {
   "display_name": "Python 3",
   "language": "python",
   "name": "python3"
  },
  "language_info": {
   "codemirror_mode": {
    "name": "ipython",
    "version": 3
   },
   "file_extension": ".py",
   "mimetype": "text/x-python",
   "name": "python",
   "nbconvert_exporter": "python",
   "pygments_lexer": "ipython3",
   "version": "3.7.3"
  }
 },
 "nbformat": 4,
 "nbformat_minor": 2
}
