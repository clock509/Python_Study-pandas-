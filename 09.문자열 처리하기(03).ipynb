{
 "cells": [
  {
   "cell_type": "markdown",
   "metadata": {},
   "source": [
    "# 9-3. 문자열 포매팅"
   ]
  },
  {
   "cell_type": "markdown",
   "metadata": {},
   "source": [
    " - 출력할 문자열의 형식을 지정하거나, 변수를 조합하여 출력하는 방법.\n",
    " - ex. I can swim/fly/run과 같이, I can이라는 문자열에 swim, run, fly와 같은 단어만 바꿔 넣어 출력하는 것."
   ]
  },
  {
   "cell_type": "markdown",
   "metadata": {},
   "source": [
    "#### 문자열 데이터 포매팅하기."
   ]
  },
  {
   "cell_type": "code",
   "execution_count": null,
   "metadata": {},
   "outputs": [],
   "source": [
    "#단어를 삽입할 위치를 {}로 지정하고 format 메서드에 원하는 단어를 전달함.\n",
    "#{} = placeholder\n",
    "\n",
    "var = 'flesh wound'\n",
    "s = \"It's just a {}!\"\n",
    "\n",
    "print(s.format(var))\n",
    "print(s.format('scratch'))"
   ]
  },
  {
   "cell_type": "code",
   "execution_count": null,
   "metadata": {},
   "outputs": [],
   "source": [
    "#format 메서드에 여러 단어를 전달하려면: index를 활용하면 된다!\n",
    "s = \"\"\"Black Knight: 'Tis but a {0}.\n",
    "King Arthur: A {0}? Your arm's off!\n",
    "\"\"\"\n",
    "\n",
    "print(s.format('scratch'))"
   ]
  },
  {
   "cell_type": "code",
   "execution_count": null,
   "metadata": {},
   "outputs": [],
   "source": [
    "#placehloder에 변수를 지정해도 된다. 단, format 메서드에 전달하는 문자열도 변수에 담아 전달해야 한다.\n",
    "s = 'Hayden Planetarium Coordinates: {lat}, {lon}'\n",
    "print(s.format(lat = '40.7815˚ N', lon = '73.9733˚ W'))"
   ]
  },
  {
   "cell_type": "markdown",
   "metadata": {},
   "source": [
    "#### 숫자 데이터 포매팅하기."
   ]
  },
  {
   "cell_type": "code",
   "execution_count": 2,
   "metadata": {},
   "outputs": [
    {
     "name": "stdout",
     "output_type": "stream",
     "text": [
      "Some digits of pi: 3.14\n"
     ]
    }
   ],
   "source": [
    "print('Some digits of pi: {}'.format(3.14))"
   ]
  },
  {
   "cell_type": "code",
   "execution_count": 3,
   "metadata": {},
   "outputs": [
    {
     "name": "stdout",
     "output_type": "stream",
     "text": [
      "In 2005, Lu choa of China recited 67,890 digits of pi\n"
     ]
    }
   ],
   "source": [
    "#placeholder에 :, 를 넣으면 => 쉼표를 넣어 숫자를 표현할 수 있다!\n",
    "print(\"In 2005, Lu choa of China recited {:,} digits of pi\".format(67890))"
   ]
  },
  {
   "cell_type": "code",
   "execution_count": 7,
   "metadata": {},
   "outputs": [
    {
     "name": "stdout",
     "output_type": "stream",
     "text": [
      "I remember 0.0001031 or 0.0103% of what Lu Chao recited\n"
     ]
    }
   ],
   "source": [
    "#소수를 다양하게 표현하기\n",
    "\n",
    "print(\"I remember {0:.4} or {0:.4%} of what Lu Chao recited\".format(7/67890))\n",
    "#placeholder의 0: format 메서드에서 전달받을 값(7/67890)의 인덱스. 여기서는 format()에 1개의 값만 있으므로 인덱스는 0까지만 유효하다.\n",
    "#placeholder의 .4: 소수점 이하 4자리까지 출력한다는 뜻.\n",
    "#이때 %를 쓰면 7/67890의 결과값을 백분율로 환산하여 출력함."
   ]
  },
  {
   "cell_type": "code",
   "execution_count": 9,
   "metadata": {},
   "outputs": [
    {
     "name": "stdout",
     "output_type": "stream",
     "text": [
      "My ID number is 00042\n"
     ]
    }
   ],
   "source": [
    "print(\"My ID number is {0:05d}\".format(42))\n",
    "#format() 메서드 내 값이 5자리의 숫자로 표현되어야 한다면, 42같이 5자리 미만의 값은 00042로 출력해야 한다.\n",
    "#format의 0번째 값(42)을 5자리의 수로 표현하되 빈 칸을 0으로 채워 출력한 것."
   ]
  },
  {
   "cell_type": "markdown",
   "metadata": {},
   "source": [
    "#### %연산자로 포매팅하기."
   ]
  },
  {
   "cell_type": "code",
   "execution_count": 10,
   "metadata": {},
   "outputs": [
    {
     "name": "stdout",
     "output_type": "stream",
     "text": [
      "I only know 7 digits of pi\n"
     ]
    }
   ],
   "source": [
    "#삽입할 값이 10진수라면, 삽입할 위치에 %d라고 입력해야 한다.\n",
    "#그런 다음 %연산자를 이용하여 삽입할 값*7)을 지정하여 출력한다.\n",
    "s = 'I only know %d digits of pi'%7\n",
    "print(s)"
   ]
  },
  {
   "cell_type": "code",
   "execution_count": 12,
   "metadata": {},
   "outputs": [
    {
     "name": "stdout",
     "output_type": "stream",
     "text": [
      "Some digits of e: 2.72\n"
     ]
    }
   ],
   "source": [
    "#삽입할 값이 문자열이라면, 삽입할 위치에 %s라고 입력해야 한다.\n",
    "#이때, %와 s 사이에 소괄호를 사용하여 변수를 지정한다.\n",
    "print('Some digits of %(cont)s: %(value).2f'%{'cont': 'e', 'value': 2.718})"
   ]
  }
 ],
 "metadata": {
  "kernelspec": {
   "display_name": "Python 3",
   "language": "python",
   "name": "python3"
  },
  "language_info": {
   "codemirror_mode": {
    "name": "ipython",
    "version": 3
   },
   "file_extension": ".py",
   "mimetype": "text/x-python",
   "name": "python",
   "nbconvert_exporter": "python",
   "pygments_lexer": "ipython3",
   "version": "3.7.3"
  }
 },
 "nbformat": 4,
 "nbformat_minor": 2
}
