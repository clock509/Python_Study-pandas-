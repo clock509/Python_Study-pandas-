{
 "cells": [
  {
   "cell_type": "markdown",
   "metadata": {},
   "source": [
    "# 9-4. 정규식으로 문자열 처리에 날개 달기"
   ]
  },
  {
   "cell_type": "markdown",
   "metadata": {},
   "source": [
    "#### 정규식이란?\n",
    " - 내가 원하는 패턴의 문자열만 추출하게 해 주는 식."
   ]
  },
  {
   "cell_type": "markdown",
   "metadata": {},
   "source": [
    " - 정규식 표현 정리: 문법, 특수문자\n",
    " - https://regex101.com : 정규식 패턴 실습 사이트. 결과를 바로바로 보여줌."
   ]
  },
  {
   "cell_type": "markdown",
   "metadata": {},
   "source": [
    "<기본 정규식 문법>\n",
    "\n",
    " - .  ==> 문자(a) 앞에 문자 1개가 있는 패턴을 찾음.\n",
    "            .a\n",
    " - ^  ==> 문자열의 처음부터 일치하는 패턴을 찾음.\n",
    "            ^I like\n",
    " - $ ==> 문자열의 끝 부분부터 일치하는 패턴을 찾음.\n",
    "            on$\n",
    " - *  ==> n 이후 숫자(\\d)가 0개 이상인 패턴을 찾음.\n",
    "            n\\d*\n",
    " - +  ==> n 이후 숫자(\\d)가 1개 이상인 패턴을 찾음.\n",
    "            n\\d+\n",
    " - ?  ==> ?의 앞에 문자(e)가 있거나 없는 패턴을 찾음.\n",
    "            apple?\n",
    " - {m}  ==> n 이후 숫자(\\d)가 2개({2})d인 패턴을 찾음.\n",
    "            n\\d{2}\n",
    " - {m, n}  ==> n 이후 숫자(\\d)가 2개({2}) 이상, 4개({4}) 이하인 패턴을 찾음.\n",
    "            n\\d{2, 4}\n",
    " - \\  ==> *, ?, +와 같은 특수 문자를 검색할 때 이스케이프 문자(\\)를 사용함.\n",
    "            \\*, \\?, \\+\n",
    " - []  ==> c, f, h 중 1개를 포함하고 나머지 문자열이 all인 패턴을 찾음.\n",
    "            [cfh]all\n",
    " - |  ==> apple이나 application 중 하나만 있는 패턴을 찾음(OR 연산).\n",
    "            apple | application\n",
    " - ()  ==> ()에 지정한 패턴을 찾을 때 사용함.\n",
    "            (\\d+)-(\\d+)-(\\d+)\n",
    "\n",
    "<정규식 특수문자>\n",
    "\n",
    " - \\d: 숫자 1개([0-9]와 동일)\n",
    " - \\D: 숫자 이외의 문자 1개([^0-9]와 동일)\n",
    " - \\s: 공백이나 탭 1개.\n",
    " - \\S: 공백 문자 이외의 문자 1개.\n",
    " - \\w: 알파벳 1개.\n",
    " - \\W: 알파벳 이외의 문자 1개(한글, 중국어 등)."
   ]
  },
  {
   "cell_type": "markdown",
   "metadata": {},
   "source": [
    "<정규식 표현: 메서드>\n",
    " - search: 첫 번째로 찾은 패턴의 양 끝 인덱스를 반환.\n",
    "            m = re.search('[0-9]{4}', test)\n",
    "            print(m.group())\n",
    " - match: 문자열의 처음부터 검색하여 찾아낸 패턴의 양 끝 인덱스를 반환.\n",
    "            m = re.match('[0-9]{4}', test)\n",
    "            print(m)\n",
    " - fullmatch: 전체 문자열이 일치하는지 검사.\n",
    "            m = re.fullmatch('\\d+\\s\\d+\\s\\d+\\s\\d+', test)\n",
    "            print(bool(m))\n",
    " - split: 지정한 패턴으로 잘라낸 문자열을 리스트로 반환.\n",
    "            m = re.split('\\s', test)\n",
    "            print(m)\n",
    " - findall: 지정한 패턴을 찾아 리스트로 반환.\n",
    "            m = re.findall('[0-9]{4}', test)\n",
    "            print(m)\n",
    " - finditer: findall 메서드와 기능이 동일하지만 iterator를 반환.\n",
    "            m = re.finditer('[0-9]{4}', test)\n",
    "            for match in m:\n",
    " - sub: 첫 번째 인자로 전달한 값(패턴)을 두 번째 인자로 전달한 값(easyspub)으로 교체함.\n",
    "            print(re.sub('\\s', '-', test))\n",
    "            '010-1234-5678-090'"
   ]
  },
  {
   "cell_type": "markdown",
   "metadata": {},
   "source": [
    "#### 정규식으로 전화번호 패턴 찾기."
   ]
  },
  {
   "cell_type": "code",
   "execution_count": null,
   "metadata": {},
   "outputs": [],
   "source": [
    "#테스트 문자열 준비\n",
    "import re\n",
    "tele_num = '1234567890'"
   ]
  },
  {
   "cell_type": "code",
   "execution_count": null,
   "metadata": {},
   "outputs": [],
   "source": [
    "#match 메서드로 길이가 10인 숫자를 확인하기.\n",
    "\n",
    "m = re.match(pattern = '\\d\\d\\d\\d\\d\\d\\d\\d\\d\\d', string = tele_num) #pattern: 10개의 \\d 전달(10개의 숫자)\n",
    "                                                #string: 테스트용 문자열 전달\n",
    "print(type(m))  #패턴을 찾으면 Match 오브젝트를 반환.\n",
    "print(m)        #span: 찾은 패턴의 인덱스를 의미.  #match: 찾은 패턴의 문자열을 의미."
   ]
  },
  {
   "cell_type": "code",
   "execution_count": null,
   "metadata": {},
   "outputs": [],
   "source": [
    "#bool 메서드에 m 전달 -> True, False 판단 가능\n",
    "print(bool(m))\n",
    "\n",
    "if m:\n",
    "    print('match')\n",
    "else:\n",
    "    print('no match')"
   ]
  },
  {
   "cell_type": "code",
   "execution_count": null,
   "metadata": {},
   "outputs": [],
   "source": [
    "#찾아낸 패턴의 정보를 확인하는 메서드 알아보기.\n",
    "#1. stard, end 메서드: 첫 번째와 마지막 인덱스를 반환.\n",
    "#2. span: 찾은 패턴의 첫 번째와 마지막 인덱스를 반환.\n",
    "#3. group 메서드: ckwdksos voxjsdmf qksghks.\n",
    "\n",
    "print(m.start())\n",
    "print(m.end())\n",
    "print(m.span())\n",
    "print(m.group())"
   ]
  },
  {
   "cell_type": "code",
   "execution_count": null,
   "metadata": {},
   "outputs": [],
   "source": [
    "#숫자 이외의 입력값이 주어진 경우(ex.123-456-7890)\n",
    "#이 경우 앞에서 사용한 패턴을 그대로 적용하면 패턴을 찾지 못한다.\n",
    "\n",
    "tele_num_spaces = '123 456 7890'\n",
    "m = re.match(pattern = '\\d{10}', string = tele_num_spaces)\n",
    "print(m)   #match 오브젝트가 아닌 None 반환.\n",
    "\n",
    "if m:\n",
    "    print('match')\n",
    "else:\n",
    "    print('no match')"
   ]
  },
  {
   "cell_type": "code",
   "execution_count": null,
   "metadata": {},
   "outputs": [],
   "source": [
    "#위 문제를 해결하기 위해서는 정규식을 재작성해야 함.\n",
    "#빈 칸을 의미하는 \\s?를 넣어 패턴 다시 만들기.\n",
    "p = '\\d{3}\\s?\\d{3}\\s?\\d{4}'\n",
    "m = re.match(pattern = p, string = tele_num_spaces)\n",
    "print(m)"
   ]
  },
  {
   "cell_type": "code",
   "execution_count": null,
   "metadata": {},
   "outputs": [],
   "source": [
    "#지역번호를 괄호로 감싸고 나머지 번호는 반각 기호로 구분한 전화번호의 정규식.\n",
    "tele_num_space_paren_dash = '(123) 456-7890'\n",
    "p = '\\(?\\d{3}\\)?\\s?\\d{3}\\s?-?\\d{4}'      # -? 앞의 \\s?는 없어도 패턴을 찾는데 문제가 없다.\n",
    "m = re.match(pattern = p, string = tele_num_space_paren_dash)\n",
    "print(m)"
   ]
  },
  {
   "cell_type": "code",
   "execution_count": null,
   "metadata": {},
   "outputs": [],
   "source": [
    "#국가코드까지 있는 전화번호의 정구식\n",
    "cnty_tele_num_space_paren_dash = '+1 (123) 456-7890'\n",
    "p = '\\+?1\\s?\\(?\\d{3}\\)?\\s?\\d{3}\\s?-?\\d{4}'       # 책에 적혀있는 코드.\n",
    "#p = '\\+?\\d{1}\\s?\\(?\\d{3}\\)?\\s?\\d{3}\\s?-?\\d{4}'  # 조금 다르게 작성해 보았습니다.\n",
    "\n",
    "m = re.match(pattern = p, string = cnty_tele_num_space_paren_dash)\n",
    "print(m)"
   ]
  },
  {
   "cell_type": "code",
   "execution_count": null,
   "metadata": {},
   "outputs": [],
   "source": [
    "#Tip. compile 메서드로 정규식 메서드 사용하기\n",
    "#패턴을 반복해서 상요하려면, complie 메서드로 패턴을 컴파일한 다음, 변수에 저장하여 사용.\n",
    "\n",
    "p = re.compile('\\d{10}')\n",
    "s = '123456789012345678901234567890'\n",
    "m = p.match(s)\n",
    "print(m)"
   ]
  }
 ],
 "metadata": {
  "kernelspec": {
   "display_name": "Python 3",
   "language": "python",
   "name": "python3"
  },
  "language_info": {
   "codemirror_mode": {
    "name": "ipython",
    "version": 3
   },
   "file_extension": ".py",
   "mimetype": "text/x-python",
   "name": "python",
   "nbconvert_exporter": "python",
   "pygments_lexer": "ipython3",
   "version": "3.7.3"
  }
 },
 "nbformat": 4,
 "nbformat_minor": 2
}
