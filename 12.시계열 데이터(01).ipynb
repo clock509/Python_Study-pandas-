{
 "cells": [
  {
   "cell_type": "markdown",
   "metadata": {},
   "source": [
    "# 12-1. datetime 오브젝트."
   ]
  },
  {
   "cell_type": "markdown",
   "metadata": {},
   "source": [
    "- 시계열 데이터: 일정 시간 간격으로 어떤 값을 기록한 데이터.\n",
    "- datetime 라이브러리: 날짜와 시간을 처리하는 라이브러리.\n",
    "  * date object: 날짜를 처리.\n",
    "  * time object: 시간을 처리.\n",
    "  * datetime object: 날짜와 시간을 모두 처리."
   ]
  },
  {
   "cell_type": "markdown",
   "metadata": {},
   "source": [
    " #### datetime object 사용하기."
   ]
  },
  {
   "cell_type": "code",
   "execution_count": null,
   "metadata": {},
   "outputs": [],
   "source": [
    "from datetime import datetime\n",
    "\n",
    "#now, today 메서드로 현재 시간 출력.\n",
    "now1 = datetime.now()\n",
    "print(now1)\n",
    "\n",
    "now2 = datetime.today()\n",
    "print(now2)"
   ]
  },
  {
   "cell_type": "code",
   "execution_count": null,
   "metadata": {},
   "outputs": [],
   "source": [
    "#datetime object를 생성할 때 시간을 직접 입력하여 인자로 전달.\n",
    "t1 = datetime.now()   #now 메서드는 밀리초 단위까지 구함.\n",
    "t2 = datetime(1980, 1, 1)\n",
    "t3 = datetime(1970, 12, 12, 13, 24, 34)\n",
    "\n",
    "print(t1)\n",
    "print(t2)\n",
    "print(t3)"
   ]
  },
  {
   "cell_type": "code",
   "execution_count": null,
   "metadata": {},
   "outputs": [],
   "source": [
    "#시간 계산이 가능한 datetime object.\n",
    "#두 시간의 차이 구하기.\n",
    "\n",
    "t1 = datetime.now()   #now 메서드는 밀리초 단위까지 구함.\n",
    "t2 = datetime(1980, 1, 1)\n",
    "\n",
    "diff1 = t1 - t2\n",
    "print(diff1)\n",
    "print(type(diff1))\n",
    "\n",
    "diff2 = t2 - t1\n",
    "print(diff2)\n",
    "print(type(diff2))"
   ]
  },
  {
   "cell_type": "markdown",
   "metadata": {},
   "source": [
    "#### datetime object로 변환하기 - to_datetime"
   ]
  },
  {
   "cell_type": "markdown",
   "metadata": {},
   "source": [
    " - 시계열 데이터를 문자로 저장해야 할 때도 있다. \n",
    " - 하지만 문자열은 시간 계산이 불가하므로 datetime으로 형변환해야 한다."
   ]
  },
  {
   "cell_type": "code",
   "execution_count": null,
   "metadata": {},
   "outputs": [],
   "source": [
    "#### ebola 데이터셋을 이용해 문자열을 datetime object로 변환하기.\n",
    "import pandas as pd\n",
    "import os\n",
    "\n",
    "ebola = pd.read_csv(\"./data/country_timeseries.csv\")"
   ]
  },
  {
   "cell_type": "code",
   "execution_count": null,
   "metadata": {},
   "outputs": [],
   "source": [
    "print(ebola.info())"
   ]
  },
  {
   "cell_type": "code",
   "execution_count": null,
   "metadata": {},
   "outputs": [],
   "source": [
    "#to_datetime 메서드로 date열의 data type을 object(문자열) -> datetime형으로 변환.\n",
    "ebola['date_dt'] = pd.to_datetime(ebola['Date'])    #새로운 컬럼으로 추가.\n",
    "print(ebola.info())"
   ]
  },
  {
   "cell_type": "code",
   "execution_count": null,
   "metadata": {},
   "outputs": [],
   "source": [
    "#시간 형식 지정자와 기호를 적절히 조합해 format 인자에 전달하면, 그 형식에 맞는 datetime object를 얻을 수 있다.\n",
    "\n",
    "test_df1 = pd.DataFrame({'order_day': ['01/01/15', '02/01/15', '03/01/15']})\n",
    "\n",
    "test_df1['date_dt1'] = pd.to_datetime(test_df1['order_day'], format = '%d/%m/%y')\n",
    "test_df1['date_dt2'] = pd.to_datetime(test_df1['order_day'], format = '%m/%d/%y')\n",
    "test_df1['date_dt3'] = pd.to_datetime(test_df1['order_day'], format = '%y/%m/%d')\n",
    "\n",
    "print(test_df1)\n",
    "print()\n",
    "\n",
    "test_df2 = pd.DataFrame({'order_day': ['01-01-15', '02-01-15', '03-01-15']})\n",
    "test_df2['date_dt'] = pd.to_datetime(test_df2['order_day'], format = '%d-%m-%y')\n",
    "print(test_df2)"
   ]
  },
  {
   "cell_type": "markdown",
   "metadata": {},
   "source": [
    "#### 시간 형식 지정자"
   ]
  },
  {
   "cell_type": "markdown",
   "metadata": {},
   "source": [
    " - %a : 요일 출력(축약형 문자Sun, Mon, ...)\n",
    " - %A : 요일 출력(Full name. Sunday, Monday, ...)\n",
    " - %w : 요일 출력(숫자 0~6. 0부터 일요일)\n",
    " - %d : 날짜 출력(두 자리로 표시. 01, 02, 03, 04, ..., 31)\n",
    " - %b : 월 출력(축약형 문자. Jan, Feb, ..., Dec)\n",
    " - %B : 월 출력(Full name.January, Feburary, ..., December)\n",
    " - %m : 월 출력(숫자. 01, 02, ..., 12)\n",
    " - %y : 년 출력(두 자리로 표시. 00, 01, 02, ..., 99)\n",
    " - %Y : 년 출력(네 자리로 표시. 0001, 0002, ..., 2013, 2014, ..., 9999)\n",
    " - %H : 시간 출력(24시간. 00, 01, ..., 23)\n",
    " - %I : 시간 출력(12시간. 01, 02, ..., 12)\n",
    " - %p : AM 또는 PM 출력(AM, PM)\n",
    " - %M : 분 출력(2자리로 표시. 00, 01, 02, ..., 59)\n",
    " - %S : 초 출력(2자리로 표시. 00, 01, 02, ..., 59)\n",
    " - %f : 마이크로초 출력(000000, 000001, ..., 999999)\n",
    " - %z : UTC 차이 출력(+HHMM or -HHMM 형태. (None), +0000, -0400, +1030)\n",
    " - %Z : 기준 지역 이름 출력((None), UTC, EST, CST)\n",
    " - %j : 올해의 지난 일 수 출력(001일, 002일, ..., 366일)\n",
    " - %U : 올해의 지난 주 수 출력(00주, 01주, ..., 53주)\n",
    " - %c : 날짜와 시간 출력(Tue Aug 16 21:30:00 1998)\n",
    " - %x : 날짜 출력(08/16/88 (None); 08/16/1988)\n",
    " - %X : 시간 출력(21:30:00)\n",
    " - %G : 년 출력(ISO 8601 형식)(0001, 0002, ..., 2013, 2014, ..., 9999)\n",
    " - %u : 요일 출력(ISO 8601 형식)(1, 2, ..., 7)\n",
    " - %V : 올해의 지난 주 수 출력(ISO 8601 형식)(01, 02, ..., 53)\n",
    "    "
   ]
  },
  {
   "cell_type": "code",
   "execution_count": null,
   "metadata": {},
   "outputs": [],
   "source": [
    "#Tip. 시계열 데이터를 now 메서드로 추출할 때, 원하는 시간 요소만 얻어내기 위해 데이터를 자르는 방법.\n",
    "from datetime import datetime\n",
    "\n",
    "now = datetime.now()   #now 메서드는 연, 월, 일, 시, 분, 초, 밀리초 단위까지 정밀하게 시간을 표현해 줌.\n",
    "print(now)\n",
    "print()\n",
    "\n",
    "nowDate = now.strftime('%Y-%m-%d')\n",
    "print(nowDate)\n",
    "print()\n",
    "\n",
    "nowTime = now.strftime('%H:%M:%S')\n",
    "print(nowTime)\n",
    "print()\n",
    "\n",
    "nowDatetime = now.strftime('%Y-%m-%d %H:%M:%S')\n",
    "print(nowDatetime)"
   ]
  },
  {
   "cell_type": "markdown",
   "metadata": {},
   "source": [
    "#### datetime 오브젝트로 변환하기: read_csv 메서드"
   ]
  },
  {
   "cell_type": "code",
   "execution_count": null,
   "metadata": {},
   "outputs": [],
   "source": [
    "#데이터셋을 불러올 때 datetime 오브젝트로 변환하려는 열을 지정하기.\n",
    "import pandas as pd\n",
    "\n",
    "ebola = pd.read_csv('./data/country_timeseries.csv', parse_dates = ['Date']) #parse_dates 인자에 열 이름 입력\n",
    "print(ebola.info())"
   ]
  },
  {
   "cell_type": "code",
   "execution_count": null,
   "metadata": {},
   "outputs": [],
   "source": [
    "#### datetime 오브젝트에서 날짜 정보 추출하기.\n",
    "\n",
    "date_series = pd.Series(['2018-05-16', '2018-05-17', '2018-05-18'])\n",
    "d1 = pd.to_datetime(date_series)\n",
    "print(d1)"
   ]
  },
  {
   "cell_type": "code",
   "execution_count": null,
   "metadata": {},
   "outputs": [],
   "source": [
    "print(d1[0].year)\n",
    "print(d1[0].month)\n",
    "print(d1[0].day)"
   ]
  },
  {
   "cell_type": "markdown",
   "metadata": {},
   "source": [
    "#### dt 접근자 사용하기."
   ]
  },
  {
   "cell_type": "markdown",
   "metadata": {},
   "source": [
    " - 문자열 처리에 str접근자를 사용한다면, datetime 오브젝트에는 dt 접근자를 사용하여 시계열 데이터를 처리한다."
   ]
  },
  {
   "cell_type": "code",
   "execution_count": null,
   "metadata": {},
   "outputs": [],
   "source": [
    "import pandas as pd\n",
    "\n",
    "ebola = pd.read_csv(\"./data/country_timeseries.csv\")\n",
    "ebola['date_dt'] = pd.to_datetime(ebola['Date'])  #Date열을 datetime 오브젝트로 한 새로운 열 추가"
   ]
  },
  {
   "cell_type": "code",
   "execution_count": null,
   "metadata": {},
   "outputs": [],
   "source": [
    "#dt 접근자를 사용하지 않고 연, 월, 일 데이터를 추출하는 예시.\n",
    "print(ebola[['Date', 'date_dt']].head())\n",
    "print()\n",
    "print(ebola['date_dt'][3].year)\n",
    "print()\n",
    "print(ebola['date_dt'][3].month)\n",
    "print()\n",
    "print(ebola['date_dt'][3].day)"
   ]
  },
  {
   "cell_type": "code",
   "execution_count": null,
   "metadata": {},
   "outputs": [],
   "source": [
    "#dt 접근자를 사용할 경우.\n",
    "ebola['year'] = ebola['date_dt'].dt.year   #dt접근자로 year 속성을 이용하여 연도값 추출하고, ebola에 새 열로 추가.\n",
    "print(ebola[['Date', 'date_dt', 'year']].head())"
   ]
  },
  {
   "cell_type": "code",
   "execution_count": null,
   "metadata": {},
   "outputs": [],
   "source": [
    "#월, 일 데이터를 한 번에 추출해서 새로운 얄(month, day)로 추가.\n",
    "ebola['month'] = ebola['date_dt'].dt.month\n",
    "ebola['day'] = ebola['date_dt'].dt.day\n",
    "print(ebola[['Date', 'date_dt', 'year', 'month', 'day']].head())"
   ]
  },
  {
   "cell_type": "code",
   "execution_count": null,
   "metadata": {},
   "outputs": [],
   "source": [
    "#새로 추가한 열들(date_dt, year, month, day)의 자료형 확인\n",
    "print(ebola.info())  #date_dt는 datetime object형, year/month/day는 정수형!"
   ]
  }
 ],
 "metadata": {
  "kernelspec": {
   "display_name": "Python 3",
   "language": "python",
   "name": "python3"
  },
  "language_info": {
   "codemirror_mode": {
    "name": "ipython",
    "version": 3
   },
   "file_extension": ".py",
   "mimetype": "text/x-python",
   "name": "python",
   "nbconvert_exporter": "python",
   "pygments_lexer": "ipython3",
   "version": "3.7.3"
  }
 },
 "nbformat": 4,
 "nbformat_minor": 2
}
