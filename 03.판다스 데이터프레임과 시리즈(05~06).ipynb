{
 "cells": [
  {
   "cell_type": "markdown",
   "metadata": {},
   "source": [
    "03-5"
   ]
  },
  {
   "cell_type": "code",
   "execution_count": 4,
   "metadata": {},
   "outputs": [
    {
     "name": "stdout",
     "output_type": "stream",
     "text": [
      "object\n",
      "object\n"
     ]
    }
   ],
   "source": [
    "import pandas as pd\n",
    "\n",
    "scientists = pd.read_csv('./data/scientists.csv')\n",
    "print(scientists['Born'].dtype)\n",
    "print(scientists['Died'].dtype)"
   ]
  },
  {
   "cell_type": "code",
   "execution_count": 5,
   "metadata": {},
   "outputs": [
    {
     "name": "stdout",
     "output_type": "stream",
     "text": [
      "0   1920-07-25\n",
      "1   1876-06-13\n",
      "2   1820-05-12\n",
      "3   1867-11-07\n",
      "4   1907-05-27\n",
      "5   1813-03-15\n",
      "6   1912-06-23\n",
      "7   1777-04-30\n",
      "Name: Born, dtype: datetime64[ns] \n",
      " 0   1958-04-16\n",
      "1   1937-10-16\n",
      "2   1910-08-13\n",
      "3   1934-07-04\n",
      "4   1964-04-14\n",
      "5   1858-06-16\n",
      "6   1954-06-07\n",
      "7   1855-02-23\n",
      "Name: Died, dtype: datetime64[ns]\n"
     ]
    }
   ],
   "source": [
    "#문자열로 저장된 날짜 데이터 : datetime 자료형으로 바꿔 시간 관련 작업에 용이하게 하기\n",
    "#pd.to_datetime()\n",
    "born_datetime = pd.to_datetime(scientists['Born'], format = '%Y-%m-%d')\n",
    "died_datetime = pd.to_datetime(scientists['Died'], format = '%Y-%m-%d')\n",
    "print(born_datetime, \"\\n\", died_datetime)"
   ]
  },
  {
   "cell_type": "code",
   "execution_count": 6,
   "metadata": {},
   "outputs": [
    {
     "name": "stdout",
     "output_type": "stream",
     "text": [
      "                   Name        Born        Died  Age    Occupation    born_dt  \\\n",
      "0     Rosaline Franklin  1920-07-25  1958-04-16   37       Chemist 1920-07-25   \n",
      "1        William Gosset  1876-06-13  1937-10-16   61  Statistician 1876-06-13   \n",
      "2  Florence Nightingale  1820-05-12  1910-08-13   90         Nurse 1820-05-12   \n",
      "3           Marie Curie  1867-11-07  1934-07-04   66       Chemist 1867-11-07   \n",
      "4         Rachel Carson  1907-05-27  1964-04-14   56     Biologist 1907-05-27   \n",
      "\n",
      "     died_dt  \n",
      "0 1958-04-16  \n",
      "1 1937-10-16  \n",
      "2 1910-08-13  \n",
      "3 1934-07-04  \n",
      "4 1964-04-14  \n",
      "\n",
      " (8, 7)\n"
     ]
    }
   ],
   "source": [
    "#datetime형으로 바꾼 새 변수를 데이터프레임에 새로운 열로 추가하기\n",
    "#born_dt = born_datetime, died_dt = died_datetime\n",
    "scientists['born_dt'], scientists['died_dt'] = (born_datetime, died_datetime)\n",
    "print(scientists.head())\n",
    "print(\"\\n\", scientists.shape)"
   ]
  },
  {
   "cell_type": "code",
   "execution_count": 7,
   "metadata": {},
   "outputs": [
    {
     "name": "stdout",
     "output_type": "stream",
     "text": [
      "0   13779 days\n",
      "1   22404 days\n",
      "2   32964 days\n",
      "3   24345 days\n",
      "4   20777 days\n",
      "5   16529 days\n",
      "6   15324 days\n",
      "7   28422 days\n",
      "dtype: timedelta64[ns]\n"
     ]
    }
   ],
   "source": [
    "#시간 계산: datetime형끼리의 계산: (나중 시간) - (이전 시간)\n",
    "print(scientists['died_dt'] - scientists['born_dt'])"
   ]
  },
  {
   "cell_type": "code",
   "execution_count": 8,
   "metadata": {},
   "outputs": [
    {
     "name": "stdout",
     "output_type": "stream",
     "text": [
      "0    37\n",
      "1    61\n",
      "2    90\n",
      "3    66\n",
      "4    56\n",
      "5    45\n",
      "6    41\n",
      "7    77\n",
      "Name: Age, dtype: int64\n"
     ]
    },
    {
     "name": "stderr",
     "output_type": "stream",
     "text": [
      "C:\\WORK_anaconda3\\lib\\random.py:278: SettingWithCopyWarning: \n",
      "A value is trying to be set on a copy of a slice from a DataFrame\n",
      "\n",
      "See the caveats in the documentation: http://pandas.pydata.org/pandas-docs/stable/indexing.html#indexing-view-versus-copy\n",
      "  x[i], x[j] = x[j], x[i]\n"
     ]
    },
    {
     "name": "stdout",
     "output_type": "stream",
     "text": [
      "0    56\n",
      "1    61\n",
      "2    45\n",
      "3    90\n",
      "4    37\n",
      "5    66\n",
      "6    77\n",
      "7    41\n",
      "Name: Age, dtype: int64\n"
     ]
    }
   ],
   "source": [
    "#시리즈, 데이터프레임의 데이터 섞기: random 라이브러리\n",
    "print(scientists['Age'])\n",
    "\n",
    "import random\n",
    "random.seed(0)\n",
    "random.shuffle(scientists['Age'])\n",
    "print(scientists['Age'])"
   ]
  },
  {
   "cell_type": "code",
   "execution_count": 9,
   "metadata": {},
   "outputs": [
    {
     "name": "stdout",
     "output_type": "stream",
     "text": [
      "Index(['Name', 'Born', 'Died', 'Age', 'Occupation', 'born_dt', 'died_dt'], dtype='object')\n",
      "\n",
      " Index(['Name', 'Born', 'Died', 'Occupation', 'born_dt', 'died_dt'], dtype='object')\n"
     ]
    }
   ],
   "source": [
    "#데이터프레임 열 통째로 삭제: .drop()\n",
    "\n",
    "#먼저 열을 확인: .columns\n",
    "print(scientists.columns)\n",
    "\n",
    "scientists_dropped = scientists.drop(['Age'], axis = 1)  #axis = 1 == Age '열' 삭제   #axis = 0 == 행\n",
    "print(\"\\n\", scientists_dropped.columns)"
   ]
  },
  {
   "cell_type": "markdown",
   "metadata": {},
   "source": [
    "03-6: 데이터 저장하고 불러오기 - 피클, CSV, TSV"
   ]
  },
  {
   "cell_type": "code",
   "execution_count": 10,
   "metadata": {},
   "outputs": [],
   "source": [
    "#pickle: 데이터를 바이너라 형태로 직렬화한 오브젝트를 저장하는 방법\n",
    "#시리즈를 피클로 저장하기: to_pickle(저장경로)\n",
    "\n",
    "names = scientists['Name']\n",
    "names.to_pickle('./data/scientists_names_series.pickle')"
   ]
  },
  {
   "cell_type": "code",
   "execution_count": 11,
   "metadata": {},
   "outputs": [],
   "source": [
    "#데이터프레임을 피클로 저장하기\n",
    "scientists.to_pickle('./data/scientists_names_df.pickle')"
   ]
  },
  {
   "cell_type": "code",
   "execution_count": 13,
   "metadata": {},
   "outputs": [
    {
     "name": "stdout",
     "output_type": "stream",
     "text": [
      "0       Rosaline Franklin\n",
      "1          William Gosset\n",
      "2    Florence Nightingale\n",
      "3             Marie Curie\n",
      "4           Rachel Carson\n",
      "5               John Snow\n",
      "6             Alan Turing\n",
      "7            Johann Gauss\n",
      "Name: Name, dtype: object\n",
      "                   Name        Born        Died  Age          Occupation  \\\n",
      "0     Rosaline Franklin  1920-07-25  1958-04-16   56             Chemist   \n",
      "1        William Gosset  1876-06-13  1937-10-16   61        Statistician   \n",
      "2  Florence Nightingale  1820-05-12  1910-08-13   45               Nurse   \n",
      "3           Marie Curie  1867-11-07  1934-07-04   90             Chemist   \n",
      "4         Rachel Carson  1907-05-27  1964-04-14   37           Biologist   \n",
      "5             John Snow  1813-03-15  1858-06-16   66           Physician   \n",
      "6           Alan Turing  1912-06-23  1954-06-07   77  Computer Scientist   \n",
      "7          Johann Gauss  1777-04-30  1855-02-23   41       Mathematician   \n",
      "\n",
      "     born_dt    died_dt  \n",
      "0 1920-07-25 1958-04-16  \n",
      "1 1876-06-13 1937-10-16  \n",
      "2 1820-05-12 1910-08-13  \n",
      "3 1867-11-07 1934-07-04  \n",
      "4 1907-05-27 1964-04-14  \n",
      "5 1813-03-15 1858-06-16  \n",
      "6 1912-06-23 1954-06-07  \n",
      "7 1777-04-30 1855-02-23  \n"
     ]
    }
   ],
   "source": [
    "#피클 파일 읽어오기: 바이너리 형태의 오브젝트이므로, 다른 프로그램에서 열면 이상한 문자들로 나타난다.\n",
    "scientist_names_pickle = pd.read_pickle('./data/scientists_names_series.pickle')\n",
    "print(scientist_names_pickle)\n",
    "\n",
    "scientist_from_pickle = pd.read_pickle('./data/scientists_names_df.pickle')\n",
    "print(\"\\n\", scientist_from_pickle)"
   ]
  },
  {
   "cell_type": "code",
   "execution_count": 15,
   "metadata": {},
   "outputs": [],
   "source": [
    "#csv: Comma Seperated\n",
    "#tsv: Tab Seperated\n",
    "#시리즈와 데이터프레임의 엑셀 파일저장\n",
    "##시리즈: 엑셀 구조와 맞지 않아 곧바로 저장 불가. 데이터프레임으로 변환 후에 to_excel() 메서드로 저장 가능.\n",
    "##데이터프레임: 곧바로 to_excel() 메서드로 엑셀파일로 저장 가능.\n",
    "\n",
    "names_df = names.to_frame() #위에서 정의한 names 시리즈를 데이터프레임으로 변환\n",
    "type(names_df)\n",
    "\n",
    "import xlwt\n",
    "names_df.to_excel('./data/scientists_names_series_df.xls')\n",
    "import openpyxl\n",
    "names_df.to_excel('./data/scientists_names_series_df.xlsx')\n"
   ]
  },
  {
   "cell_type": "code",
   "execution_count": null,
   "metadata": {},
   "outputs": [],
   "source": []
  }
 ],
 "metadata": {
  "kernelspec": {
   "display_name": "Python 3",
   "language": "python",
   "name": "python3"
  },
  "language_info": {
   "codemirror_mode": {
    "name": "ipython",
    "version": 3
   },
   "file_extension": ".py",
   "mimetype": "text/x-python",
   "name": "python",
   "nbconvert_exporter": "python",
   "pygments_lexer": "ipython3",
   "version": "3.7.3"
  }
 },
 "nbformat": 4,
 "nbformat_minor": 2
}
