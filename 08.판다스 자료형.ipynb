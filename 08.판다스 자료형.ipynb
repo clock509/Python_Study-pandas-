{
 "cells": [
  {
   "cell_type": "markdown",
   "metadata": {},
   "source": [
    "# 8-1. 자료형 다루기"
   ]
  },
  {
   "cell_type": "markdown",
   "metadata": {},
   "source": [
    " - 자료형 변환하기: astype 메서드"
   ]
  },
  {
   "cell_type": "code",
   "execution_count": null,
   "metadata": {},
   "outputs": [],
   "source": [
    "#자료 불러오기: 'tips' dataset in Seaborn library\n",
    "import pandas as pd\n",
    "import seaborn as sns\n",
    "\n",
    "tips = sns.load_dataset(\"tips\")\n",
    "tips.info()"
   ]
  },
  {
   "cell_type": "code",
   "execution_count": null,
   "metadata": {},
   "outputs": [],
   "source": [
    "#자료형을 문자열로 변환하기.\n",
    "#sex열의 데이터를 문자열로 변환하여 sex_str이라는 새로운 열에 저장.\n",
    "tips['sex_str'] = tips['sex'].astype(str)"
   ]
  },
  {
   "cell_type": "code",
   "execution_count": null,
   "metadata": {},
   "outputs": [],
   "source": [
    "print(tips.dtypes)"
   ]
  },
  {
   "cell_type": "code",
   "execution_count": null,
   "metadata": {},
   "outputs": [],
   "source": [
    "#데이터 타입이 변화된 데이터를 다시 원래대로 돌리기.\n",
    "tips['total_bill'] = tips['total_bill'].astype(str)   #total_bill을 실수(float) -> 문자(str)로 변환\n",
    "print(tips.dtypes)"
   ]
  },
  {
   "cell_type": "code",
   "execution_count": null,
   "metadata": {},
   "outputs": [],
   "source": [
    "#totaL_bill을 다시 문자 -> 실수로 변환.\n",
    "tips['total_bill'] = tips['total_bill'].astype(float)\n",
    "print(tips.dtypes)"
   ]
  },
  {
   "cell_type": "markdown",
   "metadata": {},
   "source": [
    "#### 잘못 입력한 데이터 처리하기."
   ]
  },
  {
   "cell_type": "code",
   "execution_count": null,
   "metadata": {},
   "outputs": [],
   "source": [
    "#totaL_bill 열의 1, 3, 5, 7행의 데이터를 'missing'으로 바꿔 변수 tips_sub_miss에 저장.\n",
    "tips_sub_miss = tips.head(10)\n",
    "tips_sub_miss.loc[[1, 3, 5, 7], 'total_bill'] = 'missing'\n",
    "print(tips_sub_miss)"
   ]
  },
  {
   "cell_type": "code",
   "execution_count": null,
   "metadata": {},
   "outputs": [],
   "source": [
    "print(tips_sub_miss.dtypes)\n",
    "#total_bill 열에 문자열('missing')이 들어오자 열 자체가 문자열 타입으로 바뀜."
   ]
  },
  {
   "cell_type": "code",
   "execution_count": null,
   "metadata": {},
   "outputs": [],
   "source": [
    "#판다스는 문자열을 실수로 변환할 줄 모른다.\n",
    "#따라서 astype 메서드를 사용하면 오류가 발생한다.\n",
    "tips_sub_miss['total_bill'] = tips_sub_miss['total_bill'].astype(float)"
   ]
  },
  {
   "cell_type": "code",
   "execution_count": null,
   "metadata": {},
   "outputs": [],
   "source": [
    "#to_numeric 메서드 역시 오류가 발생한다.\n",
    "pd.to_numeric(tips_sub_miss['total_bill'])"
   ]
  },
  {
   "cell_type": "markdown",
   "metadata": {},
   "source": [
    " - to_numeric 메서드를 활용하여 문자열을 실수로 변환할 수 있는 방법:\n",
    " - errors 인자에 raise, coerce, ignor를 지정하여 오류 제어하기.\n",
    " - errors 인자에 설정할 수 있는 값\n",
    "    * raise: 숫자로 변환할 수 없는 값이 있으면 오류 발생\n",
    "    * coerce: 숫자로 변환할 수 없는 값을 누락값으로 지정\n",
    "    * ignore: 아무 작업도 하지 않음."
   ]
  },
  {
   "cell_type": "code",
   "execution_count": null,
   "metadata": {},
   "outputs": [],
   "source": [
    "#errors를 ignore로 설정 시: 오류가 발생하지만 무시하므로, 자료형도 변하지 않는다.\n",
    "tips_sub_miss['total_bill'] = pd.to_numeric(tips_sub_miss['total_bill'], errors = 'ignore')\n",
    "print(tips_sub_miss.dtypes)"
   ]
  },
  {
   "cell_type": "code",
   "execution_count": null,
   "metadata": {},
   "outputs": [],
   "source": [
    "#errors 인자를 coerce로 설정하면 'missing'이 결측치(NaN)으로 바뀐다.\n",
    "tips_sub_miss['total_bill'] = pd.to_numeric(tips_sub_miss['total_bill'], errors = 'coerce')\n",
    "print(tips_sub_miss.dtypes)    #실수형으로 바뀌어있다."
   ]
  },
  {
   "cell_type": "markdown",
   "metadata": {},
   "source": [
    " - to_numeric의 downcast 인자: 정수, 실수같은 자료형을 더 작은 형태로 만들 때 사용(메모리를 덜 차지함).\n",
    "    * float\n",
    "    * integer\n",
    "    * signed\n",
    "    * unsigned"
   ]
  },
  {
   "cell_type": "code",
   "execution_count": null,
   "metadata": {},
   "outputs": [],
   "source": [
    "tips_sub_miss['total_bill'] = pd.to_numeric(tips_sub_miss['total_bill'], \n",
    "                                            errors = 'coerce', \n",
    "                                            downcast = 'float')\n",
    "\n",
    "print(tips_sub_miss.dtypes)  #total_bill이 float64 -> float32로 바뀌어 메모리를 2배 덜 차지하게 되었다."
   ]
  },
  {
   "cell_type": "markdown",
   "metadata": {},
   "source": [
    "# 8-2. 카테고리 자료형"
   ]
  },
  {
   "cell_type": "markdown",
   "metadata": {},
   "source": [
    " - 카테고리 자료형: 유한한 범위의 값만을 가질 수 있는 자료형.\n",
    " - 주로 동일한 문자열이 반복되어 데이터를 구성하는 경우에 사용함.\n",
    " - 만약 몇 가지 종류의 과일 이름을 저장한 컬럼이 있다면, 문자열보다 카테고리를 쓰는 것이 용량, 속도 면에서 효율적이다."
   ]
  },
  {
   "cell_type": "code",
   "execution_count": null,
   "metadata": {},
   "outputs": [],
   "source": [
    "#tips 데이터: sex라는 컬럼은 남자 or 여자만으로 구성되어 있다.\n",
    "#그래서 카테고리 형으로 저장되어 있다.\n",
    "#이를 문자열(str)로 변환 시 데이터프레임의 용량이 8.8KB로 늘어난다.\n",
    "\n",
    "tips['sex'] = tips['sex'].astype('str')\n",
    "print(tips.info())"
   ]
  },
  {
   "cell_type": "code",
   "execution_count": null,
   "metadata": {},
   "outputs": [],
   "source": [
    "#다시 sex 열을 카테고리로 변환한 후 info() 메서드로 용량을 확인해 보자.\n",
    "#8.8KB에서 7.2KB로 줄어들었다.\n",
    "tips['sex'] = tips['sex'].astype('category')\n",
    "print(tips.info())"
   ]
  }
 ],
 "metadata": {
  "kernelspec": {
   "display_name": "Python 3",
   "language": "python",
   "name": "python3"
  },
  "language_info": {
   "codemirror_mode": {
    "name": "ipython",
    "version": 3
   },
   "file_extension": ".py",
   "mimetype": "text/x-python",
   "name": "python",
   "nbconvert_exporter": "python",
   "pygments_lexer": "ipython3",
   "version": "3.7.3"
  }
 },
 "nbformat": 4,
 "nbformat_minor": 2
}
